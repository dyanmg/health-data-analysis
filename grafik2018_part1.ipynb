{
 "cells": [
  {
   "cell_type": "code",
   "execution_count": 1,
   "metadata": {},
   "outputs": [],
   "source": [
    "import tabula.io as tb\n",
    "import pandas as pd\n",
    "import numpy as np\n",
    "import math"
   ]
  },
  {
   "cell_type": "code",
   "execution_count": 2,
   "metadata": {},
   "outputs": [
    {
     "data": {
      "text/html": [
       "<div>\n",
       "<style scoped>\n",
       "    .dataframe tbody tr th:only-of-type {\n",
       "        vertical-align: middle;\n",
       "    }\n",
       "\n",
       "    .dataframe tbody tr th {\n",
       "        vertical-align: top;\n",
       "    }\n",
       "\n",
       "    .dataframe thead th {\n",
       "        text-align: right;\n",
       "    }\n",
       "</style>\n",
       "<table border=\"1\" class=\"dataframe\">\n",
       "  <thead>\n",
       "    <tr style=\"text-align: right;\">\n",
       "      <th></th>\n",
       "      <th>GAMBAR 2.1</th>\n",
       "      <th>JUMLAH PUSKESMAS DI INDONESIA TAHUN 2014-2018</th>\n",
       "    </tr>\n",
       "  </thead>\n",
       "  <tbody>\n",
       "    <tr>\n",
       "      <th>0</th>\n",
       "      <td>GAMBAR 2.2</td>\n",
       "      <td>RASIO PUSKESMAS PER KECAMATAN DI INDONESIA TAH...</td>\n",
       "    </tr>\n",
       "    <tr>\n",
       "      <th>1</th>\n",
       "      <td>GAMBAR 2.3</td>\n",
       "      <td>PETA RASIO PUSKESMAS PER KECAMATAN DI INDONESI...</td>\n",
       "    </tr>\n",
       "    <tr>\n",
       "      <th>2</th>\n",
       "      <td>GAMBAR 2.4</td>\n",
       "      <td>PERSENTASE AKREDITASI PUSKESMAS DI INDONESIA T...</td>\n",
       "    </tr>\n",
       "  </tbody>\n",
       "</table>\n",
       "</div>"
      ],
      "text/plain": [
       "   GAMBAR 2.1      JUMLAH PUSKESMAS DI INDONESIA TAHUN 2014-2018\n",
       "0  GAMBAR 2.2  RASIO PUSKESMAS PER KECAMATAN DI INDONESIA TAH...\n",
       "1  GAMBAR 2.3  PETA RASIO PUSKESMAS PER KECAMATAN DI INDONESI...\n",
       "2  GAMBAR 2.4  PERSENTASE AKREDITASI PUSKESMAS DI INDONESIA T..."
      ]
     },
     "execution_count": 2,
     "metadata": {},
     "output_type": "execute_result"
    }
   ],
   "source": [
    "file = 'profil-kesehatan-indonesia-2018.pdf'\n",
    "# file = 'https://github.com/dyanmg/health-data-analysis/raw/master/Profil-Kesehatan-Indonesia-Tahun-2020.pdf'\n",
    "data = tb.read_pdf(file, area = (640, 0, 750, 700), pages = '10', multiple_tables = False)\n",
    "data = data[0]\n",
    "data"
   ]
  },
  {
   "cell_type": "code",
   "execution_count": 3,
   "metadata": {},
   "outputs": [
    {
     "data": {
      "text/html": [
       "<div>\n",
       "<style scoped>\n",
       "    .dataframe tbody tr th:only-of-type {\n",
       "        vertical-align: middle;\n",
       "    }\n",
       "\n",
       "    .dataframe tbody tr th {\n",
       "        vertical-align: top;\n",
       "    }\n",
       "\n",
       "    .dataframe thead th {\n",
       "        text-align: right;\n",
       "    }\n",
       "</style>\n",
       "<table border=\"1\" class=\"dataframe\">\n",
       "  <thead>\n",
       "    <tr style=\"text-align: right;\">\n",
       "      <th></th>\n",
       "      <th>0</th>\n",
       "      <th>1</th>\n",
       "    </tr>\n",
       "  </thead>\n",
       "  <tbody>\n",
       "    <tr>\n",
       "      <th>0</th>\n",
       "      <td>GAMBAR 2.1</td>\n",
       "      <td>JUMLAH PUSKESMAS DI INDONESIA TAHUN 2014-2018</td>\n",
       "    </tr>\n",
       "    <tr>\n",
       "      <th>0</th>\n",
       "      <td>GAMBAR 2.2</td>\n",
       "      <td>RASIO PUSKESMAS PER KECAMATAN DI INDONESIA TAH...</td>\n",
       "    </tr>\n",
       "    <tr>\n",
       "      <th>1</th>\n",
       "      <td>GAMBAR 2.3</td>\n",
       "      <td>PETA RASIO PUSKESMAS PER KECAMATAN DI INDONESI...</td>\n",
       "    </tr>\n",
       "    <tr>\n",
       "      <th>2</th>\n",
       "      <td>GAMBAR 2.4</td>\n",
       "      <td>PERSENTASE AKREDITASI PUSKESMAS DI INDONESIA T...</td>\n",
       "    </tr>\n",
       "  </tbody>\n",
       "</table>\n",
       "</div>"
      ],
      "text/plain": [
       "            0                                                  1\n",
       "0  GAMBAR 2.1      JUMLAH PUSKESMAS DI INDONESIA TAHUN 2014-2018\n",
       "0  GAMBAR 2.2  RASIO PUSKESMAS PER KECAMATAN DI INDONESIA TAH...\n",
       "1  GAMBAR 2.3  PETA RASIO PUSKESMAS PER KECAMATAN DI INDONESI...\n",
       "2  GAMBAR 2.4  PERSENTASE AKREDITASI PUSKESMAS DI INDONESIA T..."
      ]
     },
     "execution_count": 3,
     "metadata": {},
     "output_type": "execute_result"
    }
   ],
   "source": [
    "cols = data.columns\n",
    "added = pd.concat((cols.to_frame().T, data))\n",
    "added.columns = np.arange(2)\n",
    "added"
   ]
  },
  {
   "cell_type": "code",
   "execution_count": 4,
   "metadata": {},
   "outputs": [
    {
     "data": {
      "text/html": [
       "<div>\n",
       "<style scoped>\n",
       "    .dataframe tbody tr th:only-of-type {\n",
       "        vertical-align: middle;\n",
       "    }\n",
       "\n",
       "    .dataframe tbody tr th {\n",
       "        vertical-align: top;\n",
       "    }\n",
       "\n",
       "    .dataframe thead th {\n",
       "        text-align: right;\n",
       "    }\n",
       "</style>\n",
       "<table border=\"1\" class=\"dataframe\">\n",
       "  <thead>\n",
       "    <tr style=\"text-align: right;\">\n",
       "      <th></th>\n",
       "      <th>0</th>\n",
       "      <th>1</th>\n",
       "    </tr>\n",
       "  </thead>\n",
       "  <tbody>\n",
       "    <tr>\n",
       "      <th>0</th>\n",
       "      <td>GAMBAR 2.1</td>\n",
       "      <td>JUMLAH PUSKESMAS DI INDONESIA TAHUN 2014-2018</td>\n",
       "    </tr>\n",
       "    <tr>\n",
       "      <th>0</th>\n",
       "      <td>GAMBAR 2.2</td>\n",
       "      <td>RASIO PUSKESMAS PER KECAMATAN DI INDONESIA TAH...</td>\n",
       "    </tr>\n",
       "    <tr>\n",
       "      <th>1</th>\n",
       "      <td>GAMBAR 2.3</td>\n",
       "      <td>PETA RASIO PUSKESMAS PER KECAMATAN DI INDONESI...</td>\n",
       "    </tr>\n",
       "    <tr>\n",
       "      <th>2</th>\n",
       "      <td>GAMBAR 2.4</td>\n",
       "      <td>PERSENTASE AKREDITASI PUSKESMAS DI INDONESIA T...</td>\n",
       "    </tr>\n",
       "  </tbody>\n",
       "</table>\n",
       "</div>"
      ],
      "text/plain": [
       "            0                                                  1\n",
       "0  GAMBAR 2.1      JUMLAH PUSKESMAS DI INDONESIA TAHUN 2014-2018\n",
       "0  GAMBAR 2.2  RASIO PUSKESMAS PER KECAMATAN DI INDONESIA TAH...\n",
       "1  GAMBAR 2.3  PETA RASIO PUSKESMAS PER KECAMATAN DI INDONESI...\n",
       "2  GAMBAR 2.4  PERSENTASE AKREDITASI PUSKESMAS DI INDONESIA T..."
      ]
     },
     "execution_count": 4,
     "metadata": {},
     "output_type": "execute_result"
    }
   ],
   "source": [
    "def my_isnan(var):\n",
    "    return type(var) == float and math.isnan(var)\n",
    "    \n",
    "selected = []\n",
    "carry_texts = []\n",
    "for index, row in added[::-1].iterrows():\n",
    "    if my_isnan(row[0]):\n",
    "        carry_texts.insert(0, row[1])\n",
    "    elif len(carry_texts) > 0:\n",
    "        carry_texts.insert(0, row[1])\n",
    "        row[1] = ' '.join(carry_texts)\n",
    "        carry_texts = []\n",
    "        selected.insert(0, row)\n",
    "    else:\n",
    "        selected.insert(0, row)\n",
    "filtered = pd.DataFrame(selected)\n",
    "filtered"
   ]
  },
  {
   "cell_type": "code",
   "execution_count": 5,
   "metadata": {},
   "outputs": [
    {
     "data": {
      "text/html": [
       "<div>\n",
       "<style scoped>\n",
       "    .dataframe tbody tr th:only-of-type {\n",
       "        vertical-align: middle;\n",
       "    }\n",
       "\n",
       "    .dataframe tbody tr th {\n",
       "        vertical-align: top;\n",
       "    }\n",
       "\n",
       "    .dataframe thead th {\n",
       "        text-align: right;\n",
       "    }\n",
       "</style>\n",
       "<table border=\"1\" class=\"dataframe\">\n",
       "  <thead>\n",
       "    <tr style=\"text-align: right;\">\n",
       "      <th></th>\n",
       "      <th>0</th>\n",
       "      <th>1</th>\n",
       "    </tr>\n",
       "  </thead>\n",
       "  <tbody>\n",
       "    <tr>\n",
       "      <th>0</th>\n",
       "      <td>Gambar 2.1</td>\n",
       "      <td>Jumlah Puskesmas Di Indonesia Tahun 2014-2018</td>\n",
       "    </tr>\n",
       "    <tr>\n",
       "      <th>1</th>\n",
       "      <td>Gambar 2.2</td>\n",
       "      <td>Rasio Puskesmas Per Kecamatan Di Indonesia Tah...</td>\n",
       "    </tr>\n",
       "    <tr>\n",
       "      <th>2</th>\n",
       "      <td>Gambar 2.3</td>\n",
       "      <td>Peta Rasio Puskesmas Per Kecamatan Di Indonesi...</td>\n",
       "    </tr>\n",
       "    <tr>\n",
       "      <th>3</th>\n",
       "      <td>Gambar 2.4</td>\n",
       "      <td>Persentase Akreditasi Puskesmas Di Indonesia T...</td>\n",
       "    </tr>\n",
       "  </tbody>\n",
       "</table>\n",
       "</div>"
      ],
      "text/plain": [
       "            0                                                  1\n",
       "0  Gambar 2.1      Jumlah Puskesmas Di Indonesia Tahun 2014-2018\n",
       "1  Gambar 2.2  Rasio Puskesmas Per Kecamatan Di Indonesia Tah...\n",
       "2  Gambar 2.3  Peta Rasio Puskesmas Per Kecamatan Di Indonesi...\n",
       "3  Gambar 2.4  Persentase Akreditasi Puskesmas Di Indonesia T..."
      ]
     },
     "execution_count": 5,
     "metadata": {},
     "output_type": "execute_result"
    }
   ],
   "source": [
    "new_index = filtered.reset_index(drop=True)\n",
    "new_index[0] = new_index[0].str.title()\n",
    "new_index[1] = new_index[1].str.title()\n",
    "# new_index[2] = new_index[2].astype(np.int_)\n",
    "new_index"
   ]
  },
  {
   "cell_type": "code",
   "execution_count": 6,
   "metadata": {},
   "outputs": [
    {
     "data": {
      "text/html": [
       "<div>\n",
       "<style scoped>\n",
       "    .dataframe tbody tr th:only-of-type {\n",
       "        vertical-align: middle;\n",
       "    }\n",
       "\n",
       "    .dataframe tbody tr th {\n",
       "        vertical-align: top;\n",
       "    }\n",
       "\n",
       "    .dataframe thead th {\n",
       "        text-align: right;\n",
       "    }\n",
       "</style>\n",
       "<table border=\"1\" class=\"dataframe\">\n",
       "  <thead>\n",
       "    <tr style=\"text-align: right;\">\n",
       "      <th></th>\n",
       "      <th>judul</th>\n",
       "    </tr>\n",
       "    <tr>\n",
       "      <th>gambar</th>\n",
       "      <th></th>\n",
       "    </tr>\n",
       "  </thead>\n",
       "  <tbody>\n",
       "    <tr>\n",
       "      <th>Gambar 2.1</th>\n",
       "      <td>Jumlah Puskesmas Di Indonesia Tahun 2014-2018</td>\n",
       "    </tr>\n",
       "    <tr>\n",
       "      <th>Gambar 2.2</th>\n",
       "      <td>Rasio Puskesmas Per Kecamatan Di Indonesia Tah...</td>\n",
       "    </tr>\n",
       "    <tr>\n",
       "      <th>Gambar 2.3</th>\n",
       "      <td>Peta Rasio Puskesmas Per Kecamatan Di Indonesi...</td>\n",
       "    </tr>\n",
       "    <tr>\n",
       "      <th>Gambar 2.4</th>\n",
       "      <td>Persentase Akreditasi Puskesmas Di Indonesia T...</td>\n",
       "    </tr>\n",
       "  </tbody>\n",
       "</table>\n",
       "</div>"
      ],
      "text/plain": [
       "                                                        judul\n",
       "gambar                                                       \n",
       "Gambar 2.1      Jumlah Puskesmas Di Indonesia Tahun 2014-2018\n",
       "Gambar 2.2  Rasio Puskesmas Per Kecamatan Di Indonesia Tah...\n",
       "Gambar 2.3  Peta Rasio Puskesmas Per Kecamatan Di Indonesi...\n",
       "Gambar 2.4  Persentase Akreditasi Puskesmas Di Indonesia T..."
      ]
     },
     "execution_count": 6,
     "metadata": {},
     "output_type": "execute_result"
    }
   ],
   "source": [
    "new_index.columns = ['gambar', 'judul']\n",
    "final = new_index.set_index('gambar')\n",
    "final"
   ]
  },
  {
   "cell_type": "code",
   "execution_count": 7,
   "metadata": {},
   "outputs": [],
   "source": [
    "final.to_csv('output/grafik2018_part1.csv')"
   ]
  }
 ],
 "metadata": {
  "kernelspec": {
   "display_name": "Python 3.10.1 64-bit",
   "language": "python",
   "name": "python3"
  },
  "language_info": {
   "codemirror_mode": {
    "name": "ipython",
    "version": 3
   },
   "file_extension": ".py",
   "mimetype": "text/x-python",
   "name": "python",
   "nbconvert_exporter": "python",
   "pygments_lexer": "ipython3",
   "version": "3.10.1"
  },
  "orig_nbformat": 4,
  "vscode": {
   "interpreter": {
    "hash": "e31bf88e4f658c4df55e330177b7cf7d74c26d0dce8f84a2317bad6802d30283"
   }
  }
 },
 "nbformat": 4,
 "nbformat_minor": 2
}

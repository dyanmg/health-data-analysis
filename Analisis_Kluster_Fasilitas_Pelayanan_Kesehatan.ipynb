{
 "cells": [
  {
   "cell_type": "code",
   "execution_count": 2,
   "id": "a443109b",
   "metadata": {},
   "outputs": [],
   "source": [
    "import pandas as pd\n",
    "import numpy as np\n",
    "import seaborn as sns\n",
    "import matplotlib.pyplot as plt\n",
    "%matplotlib inline"
   ]
  },
  {
   "cell_type": "markdown",
   "id": "49afcbef",
   "metadata": {},
   "source": [
    "## Generate Data"
   ]
  },
  {
   "cell_type": "code",
   "execution_count": 3,
   "id": "eb2a9750",
   "metadata": {},
   "outputs": [
    {
     "data": {
      "text/html": [
       "<div>\n",
       "<style scoped>\n",
       "    .dataframe tbody tr th:only-of-type {\n",
       "        vertical-align: middle;\n",
       "    }\n",
       "\n",
       "    .dataframe tbody tr th {\n",
       "        vertical-align: top;\n",
       "    }\n",
       "\n",
       "    .dataframe thead th {\n",
       "        text-align: right;\n",
       "    }\n",
       "</style>\n",
       "<table border=\"1\" class=\"dataframe\">\n",
       "  <thead>\n",
       "    <tr style=\"text-align: right;\">\n",
       "      <th></th>\n",
       "      <th>provinsi</th>\n",
       "      <th>Jumlah Laboratorium Kesehatan</th>\n",
       "      <th>Jumlah Posbindu PTM</th>\n",
       "      <th>Jumlah_UTD_Teregisterasi</th>\n",
       "      <th>Persentase Puskesmas dengan 9 sesuai standar jenis nakes</th>\n",
       "      <th>Persentase Puskemsmas dengan Ketersediaan Obat Esensial</th>\n",
       "      <th>Persentase Puskesmas dengan Ketersediaan Vaksin IDL</th>\n",
       "      <th>Persentase Puskesmas Tanpa Dokter</th>\n",
       "      <th>Persentase RS KabKota Kelas C Memiliki 4 DokterSpesialis Dasar &amp; 3 DokterSpesialis Penunjang</th>\n",
       "      <th>Persentase Rumah Sakit Terakreditasi</th>\n",
       "      <th>Rasio Puskesmas Per Kecamatan</th>\n",
       "      <th>Rasio Tempat Tidur Rumah Sakit Per 1000 Penduduk</th>\n",
       "      <th>Pagu Anggaran (Dalam Jutaan Rupiah)</th>\n",
       "      <th>Persentase Realisasi</th>\n",
       "    </tr>\n",
       "  </thead>\n",
       "  <tbody>\n",
       "    <tr>\n",
       "      <th>0</th>\n",
       "      <td>Jawa Barat</td>\n",
       "      <td>317</td>\n",
       "      <td>7274.0</td>\n",
       "      <td>18</td>\n",
       "      <td>46.4</td>\n",
       "      <td>94.0</td>\n",
       "      <td>92.6</td>\n",
       "      <td>0.7</td>\n",
       "      <td>80.8</td>\n",
       "      <td>82.9</td>\n",
       "      <td>1.73</td>\n",
       "      <td>1.04</td>\n",
       "      <td>11303</td>\n",
       "      <td>48.1</td>\n",
       "    </tr>\n",
       "    <tr>\n",
       "      <th>1</th>\n",
       "      <td>DKI Jakarta</td>\n",
       "      <td>233</td>\n",
       "      <td>1828.0</td>\n",
       "      <td>4</td>\n",
       "      <td>105.4</td>\n",
       "      <td>99.0</td>\n",
       "      <td>100.0</td>\n",
       "      <td>0.0</td>\n",
       "      <td>0.0</td>\n",
       "      <td>86.2</td>\n",
       "      <td>7.10</td>\n",
       "      <td>2.37</td>\n",
       "      <td>5054</td>\n",
       "      <td>88.4</td>\n",
       "    </tr>\n",
       "    <tr>\n",
       "      <th>2</th>\n",
       "      <td>Jawa Timur</td>\n",
       "      <td>217</td>\n",
       "      <td>10432.0</td>\n",
       "      <td>30</td>\n",
       "      <td>61.0</td>\n",
       "      <td>98.0</td>\n",
       "      <td>98.2</td>\n",
       "      <td>0.7</td>\n",
       "      <td>86.7</td>\n",
       "      <td>79.3</td>\n",
       "      <td>1.46</td>\n",
       "      <td>1.27</td>\n",
       "      <td>7281</td>\n",
       "      <td>79.9</td>\n",
       "    </tr>\n",
       "    <tr>\n",
       "      <th>3</th>\n",
       "      <td>Jawa Tengah</td>\n",
       "      <td>154</td>\n",
       "      <td>8366.0</td>\n",
       "      <td>33</td>\n",
       "      <td>81.6</td>\n",
       "      <td>88.0</td>\n",
       "      <td>82.3</td>\n",
       "      <td>0.1</td>\n",
       "      <td>94.6</td>\n",
       "      <td>84.5</td>\n",
       "      <td>1.53</td>\n",
       "      <td>1.31</td>\n",
       "      <td>5833</td>\n",
       "      <td>83.8</td>\n",
       "    </tr>\n",
       "    <tr>\n",
       "      <th>4</th>\n",
       "      <td>Nusa Tenggara Timur</td>\n",
       "      <td>62</td>\n",
       "      <td>2992.0</td>\n",
       "      <td>2</td>\n",
       "      <td>25.8</td>\n",
       "      <td>96.0</td>\n",
       "      <td>92.5</td>\n",
       "      <td>9.6</td>\n",
       "      <td>71.4</td>\n",
       "      <td>80.4</td>\n",
       "      <td>1.36</td>\n",
       "      <td>1.00</td>\n",
       "      <td>6129</td>\n",
       "      <td>92.2</td>\n",
       "    </tr>\n",
       "    <tr>\n",
       "      <th>5</th>\n",
       "      <td>Sumatera Utara</td>\n",
       "      <td>52</td>\n",
       "      <td>4376.0</td>\n",
       "      <td>12</td>\n",
       "      <td>32.6</td>\n",
       "      <td>94.0</td>\n",
       "      <td>91.9</td>\n",
       "      <td>3.6</td>\n",
       "      <td>84.8</td>\n",
       "      <td>73.9</td>\n",
       "      <td>1.35</td>\n",
       "      <td>1.63</td>\n",
       "      <td>5817</td>\n",
       "      <td>96.7</td>\n",
       "    </tr>\n",
       "    <tr>\n",
       "      <th>6</th>\n",
       "      <td>Kalimantan Selatan</td>\n",
       "      <td>46</td>\n",
       "      <td>1751.0</td>\n",
       "      <td>11</td>\n",
       "      <td>66.7</td>\n",
       "      <td>100.0</td>\n",
       "      <td>97.5</td>\n",
       "      <td>0.8</td>\n",
       "      <td>72.2</td>\n",
       "      <td>79.2</td>\n",
       "      <td>1.54</td>\n",
       "      <td>1.50</td>\n",
       "      <td>4798</td>\n",
       "      <td>90.2</td>\n",
       "    </tr>\n",
       "    <tr>\n",
       "      <th>7</th>\n",
       "      <td>Sumatera Barat</td>\n",
       "      <td>37</td>\n",
       "      <td>2527.0</td>\n",
       "      <td>9</td>\n",
       "      <td>66.3</td>\n",
       "      <td>100.0</td>\n",
       "      <td>100.0</td>\n",
       "      <td>1.8</td>\n",
       "      <td>71.4</td>\n",
       "      <td>80.2</td>\n",
       "      <td>1.56</td>\n",
       "      <td>1.35</td>\n",
       "      <td>5271</td>\n",
       "      <td>86.7</td>\n",
       "    </tr>\n",
       "    <tr>\n",
       "      <th>8</th>\n",
       "      <td>Bali</td>\n",
       "      <td>35</td>\n",
       "      <td>744.0</td>\n",
       "      <td>6</td>\n",
       "      <td>56.7</td>\n",
       "      <td>100.0</td>\n",
       "      <td>95.8</td>\n",
       "      <td>0.0</td>\n",
       "      <td>81.8</td>\n",
       "      <td>87.7</td>\n",
       "      <td>2.11</td>\n",
       "      <td>1.93</td>\n",
       "      <td>8518</td>\n",
       "      <td>89.0</td>\n",
       "    </tr>\n",
       "    <tr>\n",
       "      <th>9</th>\n",
       "      <td>Sulawesi Selatan</td>\n",
       "      <td>34</td>\n",
       "      <td>3816.0</td>\n",
       "      <td>18</td>\n",
       "      <td>64.5</td>\n",
       "      <td>95.0</td>\n",
       "      <td>100.0</td>\n",
       "      <td>2.6</td>\n",
       "      <td>78.1</td>\n",
       "      <td>76.4</td>\n",
       "      <td>1.51</td>\n",
       "      <td>1.87</td>\n",
       "      <td>8215</td>\n",
       "      <td>90.0</td>\n",
       "    </tr>\n",
       "    <tr>\n",
       "      <th>10</th>\n",
       "      <td>Kalimantan Timur</td>\n",
       "      <td>34</td>\n",
       "      <td>1433.0</td>\n",
       "      <td>5</td>\n",
       "      <td>59.4</td>\n",
       "      <td>99.0</td>\n",
       "      <td>100.0</td>\n",
       "      <td>0.5</td>\n",
       "      <td>83.3</td>\n",
       "      <td>71.7</td>\n",
       "      <td>1.83</td>\n",
       "      <td>1.83</td>\n",
       "      <td>9423</td>\n",
       "      <td>93.0</td>\n",
       "    </tr>\n",
       "    <tr>\n",
       "      <th>11</th>\n",
       "      <td>Bengkulu</td>\n",
       "      <td>34</td>\n",
       "      <td>1270.0</td>\n",
       "      <td>6</td>\n",
       "      <td>30.2</td>\n",
       "      <td>98.0</td>\n",
       "      <td>100.0</td>\n",
       "      <td>2.8</td>\n",
       "      <td>80.0</td>\n",
       "      <td>80.8</td>\n",
       "      <td>1.39</td>\n",
       "      <td>1.41</td>\n",
       "      <td>6459</td>\n",
       "      <td>96.7</td>\n",
       "    </tr>\n",
       "    <tr>\n",
       "      <th>12</th>\n",
       "      <td>Kalimantan Tengah</td>\n",
       "      <td>30</td>\n",
       "      <td>1174.0</td>\n",
       "      <td>5</td>\n",
       "      <td>23.4</td>\n",
       "      <td>81.0</td>\n",
       "      <td>93.5</td>\n",
       "      <td>5.9</td>\n",
       "      <td>71.4</td>\n",
       "      <td>73.3</td>\n",
       "      <td>1.51</td>\n",
       "      <td>1.47</td>\n",
       "      <td>7468</td>\n",
       "      <td>91.8</td>\n",
       "    </tr>\n",
       "    <tr>\n",
       "      <th>13</th>\n",
       "      <td>DI Yogyakarta</td>\n",
       "      <td>27</td>\n",
       "      <td>1188.0</td>\n",
       "      <td>6</td>\n",
       "      <td>89.3</td>\n",
       "      <td>100.0</td>\n",
       "      <td>100.0</td>\n",
       "      <td>0.0</td>\n",
       "      <td>88.9</td>\n",
       "      <td>81.0</td>\n",
       "      <td>1.55</td>\n",
       "      <td>1.80</td>\n",
       "      <td>6358</td>\n",
       "      <td>56.0</td>\n",
       "    </tr>\n",
       "    <tr>\n",
       "      <th>14</th>\n",
       "      <td>Sumatera Selatan</td>\n",
       "      <td>25</td>\n",
       "      <td>2892.0</td>\n",
       "      <td>12</td>\n",
       "      <td>34.5</td>\n",
       "      <td>78.0</td>\n",
       "      <td>100.0</td>\n",
       "      <td>2.3</td>\n",
       "      <td>69.0</td>\n",
       "      <td>74.7</td>\n",
       "      <td>1.43</td>\n",
       "      <td>1.12</td>\n",
       "      <td>7093</td>\n",
       "      <td>77.3</td>\n",
       "    </tr>\n",
       "    <tr>\n",
       "      <th>15</th>\n",
       "      <td>Kalimantan Barat</td>\n",
       "      <td>24</td>\n",
       "      <td>1691.0</td>\n",
       "      <td>6</td>\n",
       "      <td>34.0</td>\n",
       "      <td>93.0</td>\n",
       "      <td>100.0</td>\n",
       "      <td>3.2</td>\n",
       "      <td>57.9</td>\n",
       "      <td>81.8</td>\n",
       "      <td>1.42</td>\n",
       "      <td>1.27</td>\n",
       "      <td>3674</td>\n",
       "      <td>87.2</td>\n",
       "    </tr>\n",
       "    <tr>\n",
       "      <th>16</th>\n",
       "      <td>Banten</td>\n",
       "      <td>24</td>\n",
       "      <td>1545.0</td>\n",
       "      <td>4</td>\n",
       "      <td>51.0</td>\n",
       "      <td>72.0</td>\n",
       "      <td>99.6</td>\n",
       "      <td>0.4</td>\n",
       "      <td>81.8</td>\n",
       "      <td>79.7</td>\n",
       "      <td>1.58</td>\n",
       "      <td>1.03</td>\n",
       "      <td>5515</td>\n",
       "      <td>90.4</td>\n",
       "    </tr>\n",
       "    <tr>\n",
       "      <th>17</th>\n",
       "      <td>Nusa Tenggara Barat</td>\n",
       "      <td>20</td>\n",
       "      <td>2236.0</td>\n",
       "      <td>10</td>\n",
       "      <td>63.4</td>\n",
       "      <td>94.0</td>\n",
       "      <td>100.0</td>\n",
       "      <td>0.0</td>\n",
       "      <td>69.2</td>\n",
       "      <td>76.7</td>\n",
       "      <td>1.50</td>\n",
       "      <td>1.14</td>\n",
       "      <td>8038</td>\n",
       "      <td>78.7</td>\n",
       "    </tr>\n",
       "    <tr>\n",
       "      <th>18</th>\n",
       "      <td>Lampung</td>\n",
       "      <td>20</td>\n",
       "      <td>2526.0</td>\n",
       "      <td>13</td>\n",
       "      <td>35.1</td>\n",
       "      <td>76.0</td>\n",
       "      <td>95.8</td>\n",
       "      <td>0.3</td>\n",
       "      <td>81.3</td>\n",
       "      <td>81.5</td>\n",
       "      <td>1.38</td>\n",
       "      <td>0.95</td>\n",
       "      <td>5047</td>\n",
       "      <td>92.0</td>\n",
       "    </tr>\n",
       "    <tr>\n",
       "      <th>19</th>\n",
       "      <td>Sulawesi Tenggara</td>\n",
       "      <td>16</td>\n",
       "      <td>1239.0</td>\n",
       "      <td>1</td>\n",
       "      <td>28.7</td>\n",
       "      <td>91.0</td>\n",
       "      <td>100.0</td>\n",
       "      <td>14.3</td>\n",
       "      <td>50.0</td>\n",
       "      <td>78.9</td>\n",
       "      <td>1.34</td>\n",
       "      <td>1.35</td>\n",
       "      <td>6526</td>\n",
       "      <td>97.5</td>\n",
       "    </tr>\n",
       "    <tr>\n",
       "      <th>20</th>\n",
       "      <td>Kepulauan Riau</td>\n",
       "      <td>14</td>\n",
       "      <td>476.0</td>\n",
       "      <td>2</td>\n",
       "      <td>55.4</td>\n",
       "      <td>92.0</td>\n",
       "      <td>100.0</td>\n",
       "      <td>2.2</td>\n",
       "      <td>60.0</td>\n",
       "      <td>78.4</td>\n",
       "      <td>1.22</td>\n",
       "      <td>1.70</td>\n",
       "      <td>7957</td>\n",
       "      <td>78.9</td>\n",
       "    </tr>\n",
       "    <tr>\n",
       "      <th>21</th>\n",
       "      <td>Riau</td>\n",
       "      <td>14</td>\n",
       "      <td>1414.0</td>\n",
       "      <td>10</td>\n",
       "      <td>59.5</td>\n",
       "      <td>90.0</td>\n",
       "      <td>99.1</td>\n",
       "      <td>0.4</td>\n",
       "      <td>75.0</td>\n",
       "      <td>81.6</td>\n",
       "      <td>1.38</td>\n",
       "      <td>1.19</td>\n",
       "      <td>5274</td>\n",
       "      <td>88.3</td>\n",
       "    </tr>\n",
       "    <tr>\n",
       "      <th>22</th>\n",
       "      <td>Papua</td>\n",
       "      <td>13</td>\n",
       "      <td>289.0</td>\n",
       "      <td>0</td>\n",
       "      <td>8.6</td>\n",
       "      <td>90.0</td>\n",
       "      <td>97.3</td>\n",
       "      <td>42.6</td>\n",
       "      <td>31.6</td>\n",
       "      <td>68.1</td>\n",
       "      <td>2.00</td>\n",
       "      <td>1.35</td>\n",
       "      <td>9789</td>\n",
       "      <td>62.3</td>\n",
       "    </tr>\n",
       "    <tr>\n",
       "      <th>23</th>\n",
       "      <td>Jambi</td>\n",
       "      <td>12</td>\n",
       "      <td>1106.0</td>\n",
       "      <td>4</td>\n",
       "      <td>51.2</td>\n",
       "      <td>94.0</td>\n",
       "      <td>93.6</td>\n",
       "      <td>0.5</td>\n",
       "      <td>75.0</td>\n",
       "      <td>80.5</td>\n",
       "      <td>1.45</td>\n",
       "      <td>1.30</td>\n",
       "      <td>7279</td>\n",
       "      <td>94.8</td>\n",
       "    </tr>\n",
       "    <tr>\n",
       "      <th>24</th>\n",
       "      <td>Aceh</td>\n",
       "      <td>12</td>\n",
       "      <td>4882.0</td>\n",
       "      <td>15</td>\n",
       "      <td>58.8</td>\n",
       "      <td>89.0</td>\n",
       "      <td>96.1</td>\n",
       "      <td>2.2</td>\n",
       "      <td>100.0</td>\n",
       "      <td>90.3</td>\n",
       "      <td>1.25</td>\n",
       "      <td>1.94</td>\n",
       "      <td>10959</td>\n",
       "      <td>83.7</td>\n",
       "    </tr>\n",
       "    <tr>\n",
       "      <th>25</th>\n",
       "      <td>Kepulauan Bangka Belitung</td>\n",
       "      <td>11</td>\n",
       "      <td>567.0</td>\n",
       "      <td>5</td>\n",
       "      <td>84.4</td>\n",
       "      <td>90.0</td>\n",
       "      <td>100.0</td>\n",
       "      <td>0.0</td>\n",
       "      <td>100.0</td>\n",
       "      <td>64.3</td>\n",
       "      <td>1.36</td>\n",
       "      <td>1.63</td>\n",
       "      <td>11615</td>\n",
       "      <td>75.1</td>\n",
       "    </tr>\n",
       "    <tr>\n",
       "      <th>26</th>\n",
       "      <td>Maluku Utara</td>\n",
       "      <td>9</td>\n",
       "      <td>748.0</td>\n",
       "      <td>3</td>\n",
       "      <td>17.7</td>\n",
       "      <td>86.0</td>\n",
       "      <td>100.0</td>\n",
       "      <td>15.7</td>\n",
       "      <td>57.1</td>\n",
       "      <td>72.7</td>\n",
       "      <td>1.26</td>\n",
       "      <td>1.42</td>\n",
       "      <td>12079</td>\n",
       "      <td>94.9</td>\n",
       "    </tr>\n",
       "    <tr>\n",
       "      <th>27</th>\n",
       "      <td>Sulawesi Utara</td>\n",
       "      <td>9</td>\n",
       "      <td>617.0</td>\n",
       "      <td>2</td>\n",
       "      <td>22.5</td>\n",
       "      <td>83.0</td>\n",
       "      <td>100.0</td>\n",
       "      <td>2.6</td>\n",
       "      <td>52.9</td>\n",
       "      <td>73.2</td>\n",
       "      <td>1.16</td>\n",
       "      <td>2.70</td>\n",
       "      <td>4995</td>\n",
       "      <td>88.6</td>\n",
       "    </tr>\n",
       "    <tr>\n",
       "      <th>28</th>\n",
       "      <td>Gorontalo</td>\n",
       "      <td>8</td>\n",
       "      <td>576.0</td>\n",
       "      <td>2</td>\n",
       "      <td>35.5</td>\n",
       "      <td>100.0</td>\n",
       "      <td>100.0</td>\n",
       "      <td>10.8</td>\n",
       "      <td>77.8</td>\n",
       "      <td>70.6</td>\n",
       "      <td>1.21</td>\n",
       "      <td>1.84</td>\n",
       "      <td>4481</td>\n",
       "      <td>96.6</td>\n",
       "    </tr>\n",
       "    <tr>\n",
       "      <th>29</th>\n",
       "      <td>Maluku</td>\n",
       "      <td>6</td>\n",
       "      <td>417.0</td>\n",
       "      <td>2</td>\n",
       "      <td>13.4</td>\n",
       "      <td>63.0</td>\n",
       "      <td>100.0</td>\n",
       "      <td>23.0</td>\n",
       "      <td>38.5</td>\n",
       "      <td>62.2</td>\n",
       "      <td>1.88</td>\n",
       "      <td>1.69</td>\n",
       "      <td>5440</td>\n",
       "      <td>74.4</td>\n",
       "    </tr>\n",
       "    <tr>\n",
       "      <th>30</th>\n",
       "      <td>Kalimantan Utara</td>\n",
       "      <td>6</td>\n",
       "      <td>124.0</td>\n",
       "      <td>1</td>\n",
       "      <td>53.6</td>\n",
       "      <td>98.0</td>\n",
       "      <td>100.0</td>\n",
       "      <td>3.6</td>\n",
       "      <td>80.0</td>\n",
       "      <td>66.7</td>\n",
       "      <td>1.02</td>\n",
       "      <td>1.90</td>\n",
       "      <td>7854</td>\n",
       "      <td>89.2</td>\n",
       "    </tr>\n",
       "    <tr>\n",
       "      <th>31</th>\n",
       "      <td>Sulawesi Barat</td>\n",
       "      <td>4</td>\n",
       "      <td>705.0</td>\n",
       "      <td>2</td>\n",
       "      <td>54.1</td>\n",
       "      <td>100.0</td>\n",
       "      <td>100.0</td>\n",
       "      <td>6.1</td>\n",
       "      <td>57.1</td>\n",
       "      <td>64.3</td>\n",
       "      <td>1.42</td>\n",
       "      <td>1.07</td>\n",
       "      <td>7019</td>\n",
       "      <td>87.0</td>\n",
       "    </tr>\n",
       "    <tr>\n",
       "      <th>32</th>\n",
       "      <td>Sulawesi Tengah</td>\n",
       "      <td>3</td>\n",
       "      <td>1853.0</td>\n",
       "      <td>6</td>\n",
       "      <td>29.7</td>\n",
       "      <td>93.0</td>\n",
       "      <td>100.0</td>\n",
       "      <td>3.8</td>\n",
       "      <td>60.9</td>\n",
       "      <td>75.6</td>\n",
       "      <td>1.23</td>\n",
       "      <td>1.65</td>\n",
       "      <td>11380</td>\n",
       "      <td>97.6</td>\n",
       "    </tr>\n",
       "    <tr>\n",
       "      <th>33</th>\n",
       "      <td>Papua Barat</td>\n",
       "      <td>2</td>\n",
       "      <td>434.0</td>\n",
       "      <td>0</td>\n",
       "      <td>12.4</td>\n",
       "      <td>89.0</td>\n",
       "      <td>70.3</td>\n",
       "      <td>20.4</td>\n",
       "      <td>66.7</td>\n",
       "      <td>58.3</td>\n",
       "      <td>0.29</td>\n",
       "      <td>2.07</td>\n",
       "      <td>6087</td>\n",
       "      <td>91.1</td>\n",
       "    </tr>\n",
       "  </tbody>\n",
       "</table>\n",
       "</div>"
      ],
      "text/plain": [
       "                     provinsi  Jumlah Laboratorium Kesehatan  \\\n",
       "0                  Jawa Barat                            317   \n",
       "1                 DKI Jakarta                            233   \n",
       "2                  Jawa Timur                            217   \n",
       "3                 Jawa Tengah                            154   \n",
       "4         Nusa Tenggara Timur                             62   \n",
       "5              Sumatera Utara                             52   \n",
       "6          Kalimantan Selatan                             46   \n",
       "7              Sumatera Barat                             37   \n",
       "8                        Bali                             35   \n",
       "9            Sulawesi Selatan                             34   \n",
       "10           Kalimantan Timur                             34   \n",
       "11                   Bengkulu                             34   \n",
       "12          Kalimantan Tengah                             30   \n",
       "13              DI Yogyakarta                             27   \n",
       "14           Sumatera Selatan                             25   \n",
       "15           Kalimantan Barat                             24   \n",
       "16                     Banten                             24   \n",
       "17        Nusa Tenggara Barat                             20   \n",
       "18                    Lampung                             20   \n",
       "19          Sulawesi Tenggara                             16   \n",
       "20             Kepulauan Riau                             14   \n",
       "21                       Riau                             14   \n",
       "22                      Papua                             13   \n",
       "23                      Jambi                             12   \n",
       "24                       Aceh                             12   \n",
       "25  Kepulauan Bangka Belitung                             11   \n",
       "26               Maluku Utara                              9   \n",
       "27             Sulawesi Utara                              9   \n",
       "28                  Gorontalo                              8   \n",
       "29                     Maluku                              6   \n",
       "30           Kalimantan Utara                              6   \n",
       "31             Sulawesi Barat                              4   \n",
       "32            Sulawesi Tengah                              3   \n",
       "33                Papua Barat                              2   \n",
       "\n",
       "    Jumlah Posbindu PTM  Jumlah_UTD_Teregisterasi  \\\n",
       "0                7274.0                        18   \n",
       "1                1828.0                         4   \n",
       "2               10432.0                        30   \n",
       "3                8366.0                        33   \n",
       "4                2992.0                         2   \n",
       "5                4376.0                        12   \n",
       "6                1751.0                        11   \n",
       "7                2527.0                         9   \n",
       "8                 744.0                         6   \n",
       "9                3816.0                        18   \n",
       "10               1433.0                         5   \n",
       "11               1270.0                         6   \n",
       "12               1174.0                         5   \n",
       "13               1188.0                         6   \n",
       "14               2892.0                        12   \n",
       "15               1691.0                         6   \n",
       "16               1545.0                         4   \n",
       "17               2236.0                        10   \n",
       "18               2526.0                        13   \n",
       "19               1239.0                         1   \n",
       "20                476.0                         2   \n",
       "21               1414.0                        10   \n",
       "22                289.0                         0   \n",
       "23               1106.0                         4   \n",
       "24               4882.0                        15   \n",
       "25                567.0                         5   \n",
       "26                748.0                         3   \n",
       "27                617.0                         2   \n",
       "28                576.0                         2   \n",
       "29                417.0                         2   \n",
       "30                124.0                         1   \n",
       "31                705.0                         2   \n",
       "32               1853.0                         6   \n",
       "33                434.0                         0   \n",
       "\n",
       "    Persentase Puskesmas dengan 9 sesuai standar jenis nakes  \\\n",
       "0                                                46.4          \n",
       "1                                               105.4          \n",
       "2                                                61.0          \n",
       "3                                                81.6          \n",
       "4                                                25.8          \n",
       "5                                                32.6          \n",
       "6                                                66.7          \n",
       "7                                                66.3          \n",
       "8                                                56.7          \n",
       "9                                                64.5          \n",
       "10                                               59.4          \n",
       "11                                               30.2          \n",
       "12                                               23.4          \n",
       "13                                               89.3          \n",
       "14                                               34.5          \n",
       "15                                               34.0          \n",
       "16                                               51.0          \n",
       "17                                               63.4          \n",
       "18                                               35.1          \n",
       "19                                               28.7          \n",
       "20                                               55.4          \n",
       "21                                               59.5          \n",
       "22                                                8.6          \n",
       "23                                               51.2          \n",
       "24                                               58.8          \n",
       "25                                               84.4          \n",
       "26                                               17.7          \n",
       "27                                               22.5          \n",
       "28                                               35.5          \n",
       "29                                               13.4          \n",
       "30                                               53.6          \n",
       "31                                               54.1          \n",
       "32                                               29.7          \n",
       "33                                               12.4          \n",
       "\n",
       "    Persentase Puskemsmas dengan Ketersediaan Obat Esensial  \\\n",
       "0                                                94.0         \n",
       "1                                                99.0         \n",
       "2                                                98.0         \n",
       "3                                                88.0         \n",
       "4                                                96.0         \n",
       "5                                                94.0         \n",
       "6                                               100.0         \n",
       "7                                               100.0         \n",
       "8                                               100.0         \n",
       "9                                                95.0         \n",
       "10                                               99.0         \n",
       "11                                               98.0         \n",
       "12                                               81.0         \n",
       "13                                              100.0         \n",
       "14                                               78.0         \n",
       "15                                               93.0         \n",
       "16                                               72.0         \n",
       "17                                               94.0         \n",
       "18                                               76.0         \n",
       "19                                               91.0         \n",
       "20                                               92.0         \n",
       "21                                               90.0         \n",
       "22                                               90.0         \n",
       "23                                               94.0         \n",
       "24                                               89.0         \n",
       "25                                               90.0         \n",
       "26                                               86.0         \n",
       "27                                               83.0         \n",
       "28                                              100.0         \n",
       "29                                               63.0         \n",
       "30                                               98.0         \n",
       "31                                              100.0         \n",
       "32                                               93.0         \n",
       "33                                               89.0         \n",
       "\n",
       "    Persentase Puskesmas dengan Ketersediaan Vaksin IDL  \\\n",
       "0                                                92.6     \n",
       "1                                               100.0     \n",
       "2                                                98.2     \n",
       "3                                                82.3     \n",
       "4                                                92.5     \n",
       "5                                                91.9     \n",
       "6                                                97.5     \n",
       "7                                               100.0     \n",
       "8                                                95.8     \n",
       "9                                               100.0     \n",
       "10                                              100.0     \n",
       "11                                              100.0     \n",
       "12                                               93.5     \n",
       "13                                              100.0     \n",
       "14                                              100.0     \n",
       "15                                              100.0     \n",
       "16                                               99.6     \n",
       "17                                              100.0     \n",
       "18                                               95.8     \n",
       "19                                              100.0     \n",
       "20                                              100.0     \n",
       "21                                               99.1     \n",
       "22                                               97.3     \n",
       "23                                               93.6     \n",
       "24                                               96.1     \n",
       "25                                              100.0     \n",
       "26                                              100.0     \n",
       "27                                              100.0     \n",
       "28                                              100.0     \n",
       "29                                              100.0     \n",
       "30                                              100.0     \n",
       "31                                              100.0     \n",
       "32                                              100.0     \n",
       "33                                               70.3     \n",
       "\n",
       "    Persentase Puskesmas Tanpa Dokter  \\\n",
       "0                                 0.7   \n",
       "1                                 0.0   \n",
       "2                                 0.7   \n",
       "3                                 0.1   \n",
       "4                                 9.6   \n",
       "5                                 3.6   \n",
       "6                                 0.8   \n",
       "7                                 1.8   \n",
       "8                                 0.0   \n",
       "9                                 2.6   \n",
       "10                                0.5   \n",
       "11                                2.8   \n",
       "12                                5.9   \n",
       "13                                0.0   \n",
       "14                                2.3   \n",
       "15                                3.2   \n",
       "16                                0.4   \n",
       "17                                0.0   \n",
       "18                                0.3   \n",
       "19                               14.3   \n",
       "20                                2.2   \n",
       "21                                0.4   \n",
       "22                               42.6   \n",
       "23                                0.5   \n",
       "24                                2.2   \n",
       "25                                0.0   \n",
       "26                               15.7   \n",
       "27                                2.6   \n",
       "28                               10.8   \n",
       "29                               23.0   \n",
       "30                                3.6   \n",
       "31                                6.1   \n",
       "32                                3.8   \n",
       "33                               20.4   \n",
       "\n",
       "    Persentase RS KabKota Kelas C Memiliki 4 DokterSpesialis Dasar & 3 DokterSpesialis Penunjang  \\\n",
       "0                                                80.8                                              \n",
       "1                                                 0.0                                              \n",
       "2                                                86.7                                              \n",
       "3                                                94.6                                              \n",
       "4                                                71.4                                              \n",
       "5                                                84.8                                              \n",
       "6                                                72.2                                              \n",
       "7                                                71.4                                              \n",
       "8                                                81.8                                              \n",
       "9                                                78.1                                              \n",
       "10                                               83.3                                              \n",
       "11                                               80.0                                              \n",
       "12                                               71.4                                              \n",
       "13                                               88.9                                              \n",
       "14                                               69.0                                              \n",
       "15                                               57.9                                              \n",
       "16                                               81.8                                              \n",
       "17                                               69.2                                              \n",
       "18                                               81.3                                              \n",
       "19                                               50.0                                              \n",
       "20                                               60.0                                              \n",
       "21                                               75.0                                              \n",
       "22                                               31.6                                              \n",
       "23                                               75.0                                              \n",
       "24                                              100.0                                              \n",
       "25                                              100.0                                              \n",
       "26                                               57.1                                              \n",
       "27                                               52.9                                              \n",
       "28                                               77.8                                              \n",
       "29                                               38.5                                              \n",
       "30                                               80.0                                              \n",
       "31                                               57.1                                              \n",
       "32                                               60.9                                              \n",
       "33                                               66.7                                              \n",
       "\n",
       "    Persentase Rumah Sakit Terakreditasi  Rasio Puskesmas Per Kecamatan  \\\n",
       "0                                   82.9                           1.73   \n",
       "1                                   86.2                           7.10   \n",
       "2                                   79.3                           1.46   \n",
       "3                                   84.5                           1.53   \n",
       "4                                   80.4                           1.36   \n",
       "5                                   73.9                           1.35   \n",
       "6                                   79.2                           1.54   \n",
       "7                                   80.2                           1.56   \n",
       "8                                   87.7                           2.11   \n",
       "9                                   76.4                           1.51   \n",
       "10                                  71.7                           1.83   \n",
       "11                                  80.8                           1.39   \n",
       "12                                  73.3                           1.51   \n",
       "13                                  81.0                           1.55   \n",
       "14                                  74.7                           1.43   \n",
       "15                                  81.8                           1.42   \n",
       "16                                  79.7                           1.58   \n",
       "17                                  76.7                           1.50   \n",
       "18                                  81.5                           1.38   \n",
       "19                                  78.9                           1.34   \n",
       "20                                  78.4                           1.22   \n",
       "21                                  81.6                           1.38   \n",
       "22                                  68.1                           2.00   \n",
       "23                                  80.5                           1.45   \n",
       "24                                  90.3                           1.25   \n",
       "25                                  64.3                           1.36   \n",
       "26                                  72.7                           1.26   \n",
       "27                                  73.2                           1.16   \n",
       "28                                  70.6                           1.21   \n",
       "29                                  62.2                           1.88   \n",
       "30                                  66.7                           1.02   \n",
       "31                                  64.3                           1.42   \n",
       "32                                  75.6                           1.23   \n",
       "33                                  58.3                           0.29   \n",
       "\n",
       "    Rasio Tempat Tidur Rumah Sakit Per 1000 Penduduk  \\\n",
       "0                                               1.04   \n",
       "1                                               2.37   \n",
       "2                                               1.27   \n",
       "3                                               1.31   \n",
       "4                                               1.00   \n",
       "5                                               1.63   \n",
       "6                                               1.50   \n",
       "7                                               1.35   \n",
       "8                                               1.93   \n",
       "9                                               1.87   \n",
       "10                                              1.83   \n",
       "11                                              1.41   \n",
       "12                                              1.47   \n",
       "13                                              1.80   \n",
       "14                                              1.12   \n",
       "15                                              1.27   \n",
       "16                                              1.03   \n",
       "17                                              1.14   \n",
       "18                                              0.95   \n",
       "19                                              1.35   \n",
       "20                                              1.70   \n",
       "21                                              1.19   \n",
       "22                                              1.35   \n",
       "23                                              1.30   \n",
       "24                                              1.94   \n",
       "25                                              1.63   \n",
       "26                                              1.42   \n",
       "27                                              2.70   \n",
       "28                                              1.84   \n",
       "29                                              1.69   \n",
       "30                                              1.90   \n",
       "31                                              1.07   \n",
       "32                                              1.65   \n",
       "33                                              2.07   \n",
       "\n",
       "    Pagu Anggaran (Dalam Jutaan Rupiah)  Persentase Realisasi  \n",
       "0                                 11303                  48.1  \n",
       "1                                  5054                  88.4  \n",
       "2                                  7281                  79.9  \n",
       "3                                  5833                  83.8  \n",
       "4                                  6129                  92.2  \n",
       "5                                  5817                  96.7  \n",
       "6                                  4798                  90.2  \n",
       "7                                  5271                  86.7  \n",
       "8                                  8518                  89.0  \n",
       "9                                  8215                  90.0  \n",
       "10                                 9423                  93.0  \n",
       "11                                 6459                  96.7  \n",
       "12                                 7468                  91.8  \n",
       "13                                 6358                  56.0  \n",
       "14                                 7093                  77.3  \n",
       "15                                 3674                  87.2  \n",
       "16                                 5515                  90.4  \n",
       "17                                 8038                  78.7  \n",
       "18                                 5047                  92.0  \n",
       "19                                 6526                  97.5  \n",
       "20                                 7957                  78.9  \n",
       "21                                 5274                  88.3  \n",
       "22                                 9789                  62.3  \n",
       "23                                 7279                  94.8  \n",
       "24                                10959                  83.7  \n",
       "25                                11615                  75.1  \n",
       "26                                12079                  94.9  \n",
       "27                                 4995                  88.6  \n",
       "28                                 4481                  96.6  \n",
       "29                                 5440                  74.4  \n",
       "30                                 7854                  89.2  \n",
       "31                                 7019                  87.0  \n",
       "32                                11380                  97.6  \n",
       "33                                 6087                  91.1  "
      ]
     },
     "execution_count": 3,
     "metadata": {},
     "output_type": "execute_result"
    }
   ],
   "source": [
    "#gabung semua kolom file csv 2021\n",
    "df1 = pd.read_csv(\"output/2021_Jumlah_Laboratorium_Kesehatan.csv\")\n",
    "df2 = pd.read_csv(\"output/2021_Jumlah_Posbindu_PTM.csv\")\n",
    "df3 = pd.read_csv(\"output/2021_Jumlah_UTD_Teregisterasi.csv\")\n",
    "df4 = pd.read_csv(\"output/2021_Persentase_Puskesmas_dengan_9_sesuai_standar_jenis_nakes.csv\")\n",
    "df5 = pd.read_csv(\"output/2021_Persentase_Puskesmas_dengan_Ketersediaan_Obat_Esensial.csv\")\n",
    "df6 = pd.read_csv(\"output/2021_Persentase_Puskesmas_Dengan_Ketersediaan_Vaksin_IDL.csv\")\n",
    "df7 = pd.read_csv(\"output/2021_Persentase_Puskesmas_Tanpa_Dokter.csv\")\n",
    "df8 = pd.read_csv(\"output/2021_Persentase_RS_KabKota_KelasC_4_DokterSpesialis_Dasar_3_DokterSpesialis_Penunjang.csv\")\n",
    "df9 = pd.read_csv(\"output/2021_Persentase_RS_Terakreditasi.csv\")\n",
    "df10 = pd.read_csv(\"output/2021_Rasio_Puskesmas_PerKecamatan.csv\")\n",
    "df11 = pd.read_csv(\"output/2021_Rasio_Tempat_Tidur_RS_Per_1000_Penduduk.csv\")\n",
    "df12 = pd.read_csv(\"output/2021_Realisasi_Dekonsentrasi_Kesehatan.csv\")\n",
    "\n",
    "\n",
    "# df = pd.concat([df1, df2, df3, df4, df5, df6, df7, df8, df9, df10, df11], axis=1, join='inner')\n",
    "dfs = [df1, df2, df3, df4, df5, df6, df7, df8, df9, df10, df11,df12]\n",
    "df = pd.concat([x.set_index('provinsi') for x in dfs], axis=1).reset_index()\n",
    "df\n"
   ]
  },
  {
   "cell_type": "code",
   "execution_count": 4,
   "id": "7d04353c",
   "metadata": {},
   "outputs": [
    {
     "data": {
      "text/plain": [
       "provinsi                                                                                         object\n",
       "Jumlah Laboratorium Kesehatan                                                                     int64\n",
       "Jumlah Posbindu PTM                                                                             float64\n",
       "Jumlah_UTD_Teregisterasi                                                                          int64\n",
       "Persentase Puskesmas dengan 9 sesuai standar jenis nakes                                        float64\n",
       "Persentase Puskemsmas dengan Ketersediaan Obat Esensial                                         float64\n",
       "Persentase Puskesmas dengan Ketersediaan Vaksin IDL                                             float64\n",
       "Persentase Puskesmas Tanpa Dokter                                                               float64\n",
       "Persentase RS KabKota Kelas C Memiliki 4 DokterSpesialis Dasar & 3 DokterSpesialis Penunjang    float64\n",
       "Persentase Rumah Sakit Terakreditasi                                                            float64\n",
       "Rasio Puskesmas Per Kecamatan                                                                   float64\n",
       "Rasio Tempat Tidur Rumah Sakit Per 1000 Penduduk                                                float64\n",
       "Pagu Anggaran (Dalam Jutaan Rupiah)                                                               int64\n",
       "Persentase Realisasi                                                                            float64\n",
       "dtype: object"
      ]
     },
     "execution_count": 4,
     "metadata": {},
     "output_type": "execute_result"
    }
   ],
   "source": [
    "df.dtypes"
   ]
  },
  {
   "cell_type": "code",
   "execution_count": 5,
   "id": "76a03880",
   "metadata": {},
   "outputs": [
    {
     "data": {
      "text/html": [
       "<div>\n",
       "<style scoped>\n",
       "    .dataframe tbody tr th:only-of-type {\n",
       "        vertical-align: middle;\n",
       "    }\n",
       "\n",
       "    .dataframe tbody tr th {\n",
       "        vertical-align: top;\n",
       "    }\n",
       "\n",
       "    .dataframe thead th {\n",
       "        text-align: right;\n",
       "    }\n",
       "</style>\n",
       "<table border=\"1\" class=\"dataframe\">\n",
       "  <thead>\n",
       "    <tr style=\"text-align: right;\">\n",
       "      <th></th>\n",
       "      <th>Jumlah Laboratorium Kesehatan</th>\n",
       "      <th>Jumlah Posbindu PTM</th>\n",
       "      <th>Jumlah_UTD_Teregisterasi</th>\n",
       "      <th>Persentase Puskesmas dengan 9 sesuai standar jenis nakes</th>\n",
       "      <th>Persentase Puskemsmas dengan Ketersediaan Obat Esensial</th>\n",
       "      <th>Persentase Puskesmas dengan Ketersediaan Vaksin IDL</th>\n",
       "      <th>Persentase Puskesmas Tanpa Dokter</th>\n",
       "      <th>Persentase RS KabKota Kelas C Memiliki 4 DokterSpesialis Dasar &amp; 3 DokterSpesialis Penunjang</th>\n",
       "      <th>Persentase Rumah Sakit Terakreditasi</th>\n",
       "      <th>Rasio Puskesmas Per Kecamatan</th>\n",
       "      <th>Rasio Tempat Tidur Rumah Sakit Per 1000 Penduduk</th>\n",
       "      <th>Pagu Anggaran (Dalam Jutaan Rupiah)</th>\n",
       "      <th>Persentase Realisasi</th>\n",
       "    </tr>\n",
       "  </thead>\n",
       "  <tbody>\n",
       "    <tr>\n",
       "      <th>count</th>\n",
       "      <td>34.000000</td>\n",
       "      <td>34.000000</td>\n",
       "      <td>34.000000</td>\n",
       "      <td>34.000000</td>\n",
       "      <td>34.000000</td>\n",
       "      <td>34.000000</td>\n",
       "      <td>34.000000</td>\n",
       "      <td>34.000000</td>\n",
       "      <td>34.000000</td>\n",
       "      <td>34.000000</td>\n",
       "      <td>34.000000</td>\n",
       "      <td>34.000000</td>\n",
       "      <td>34.000000</td>\n",
       "    </tr>\n",
       "    <tr>\n",
       "      <th>mean</th>\n",
       "      <td>46.000000</td>\n",
       "      <td>2220.823529</td>\n",
       "      <td>7.794118</td>\n",
       "      <td>47.435294</td>\n",
       "      <td>91.264706</td>\n",
       "      <td>96.944118</td>\n",
       "      <td>5.397059</td>\n",
       "      <td>70.211765</td>\n",
       "      <td>76.400000</td>\n",
       "      <td>1.597353</td>\n",
       "      <td>1.532059</td>\n",
       "      <td>7236.117647</td>\n",
       "      <td>85.532353</td>\n",
       "    </tr>\n",
       "    <tr>\n",
       "      <th>std</th>\n",
       "      <td>72.639417</td>\n",
       "      <td>2376.003118</td>\n",
       "      <td>7.772443</td>\n",
       "      <td>23.388483</td>\n",
       "      <td>8.863643</td>\n",
       "      <td>6.045143</td>\n",
       "      <td>8.866125</td>\n",
       "      <td>19.908454</td>\n",
       "      <td>7.418976</td>\n",
       "      <td>1.019460</td>\n",
       "      <td>0.405042</td>\n",
       "      <td>2262.194493</td>\n",
       "      <td>11.562262</td>\n",
       "    </tr>\n",
       "    <tr>\n",
       "      <th>min</th>\n",
       "      <td>2.000000</td>\n",
       "      <td>124.000000</td>\n",
       "      <td>0.000000</td>\n",
       "      <td>8.600000</td>\n",
       "      <td>63.000000</td>\n",
       "      <td>70.300000</td>\n",
       "      <td>0.000000</td>\n",
       "      <td>0.000000</td>\n",
       "      <td>58.300000</td>\n",
       "      <td>0.290000</td>\n",
       "      <td>0.950000</td>\n",
       "      <td>3674.000000</td>\n",
       "      <td>48.100000</td>\n",
       "    </tr>\n",
       "    <tr>\n",
       "      <th>25%</th>\n",
       "      <td>11.250000</td>\n",
       "      <td>714.750000</td>\n",
       "      <td>2.000000</td>\n",
       "      <td>29.825000</td>\n",
       "      <td>89.000000</td>\n",
       "      <td>95.875000</td>\n",
       "      <td>0.425000</td>\n",
       "      <td>60.225000</td>\n",
       "      <td>72.825000</td>\n",
       "      <td>1.342500</td>\n",
       "      <td>1.270000</td>\n",
       "      <td>5458.750000</td>\n",
       "      <td>80.850000</td>\n",
       "    </tr>\n",
       "    <tr>\n",
       "      <th>50%</th>\n",
       "      <td>22.000000</td>\n",
       "      <td>1423.500000</td>\n",
       "      <td>5.500000</td>\n",
       "      <td>51.100000</td>\n",
       "      <td>93.500000</td>\n",
       "      <td>100.000000</td>\n",
       "      <td>2.250000</td>\n",
       "      <td>73.600000</td>\n",
       "      <td>78.650000</td>\n",
       "      <td>1.425000</td>\n",
       "      <td>1.445000</td>\n",
       "      <td>6772.500000</td>\n",
       "      <td>88.800000</td>\n",
       "    </tr>\n",
       "    <tr>\n",
       "      <th>75%</th>\n",
       "      <td>34.750000</td>\n",
       "      <td>2526.750000</td>\n",
       "      <td>10.750000</td>\n",
       "      <td>60.625000</td>\n",
       "      <td>98.000000</td>\n",
       "      <td>100.000000</td>\n",
       "      <td>5.375000</td>\n",
       "      <td>81.675000</td>\n",
       "      <td>80.950000</td>\n",
       "      <td>1.547500</td>\n",
       "      <td>1.822500</td>\n",
       "      <td>8170.750000</td>\n",
       "      <td>92.150000</td>\n",
       "    </tr>\n",
       "    <tr>\n",
       "      <th>max</th>\n",
       "      <td>317.000000</td>\n",
       "      <td>10432.000000</td>\n",
       "      <td>33.000000</td>\n",
       "      <td>105.400000</td>\n",
       "      <td>100.000000</td>\n",
       "      <td>100.000000</td>\n",
       "      <td>42.600000</td>\n",
       "      <td>100.000000</td>\n",
       "      <td>90.300000</td>\n",
       "      <td>7.100000</td>\n",
       "      <td>2.700000</td>\n",
       "      <td>12079.000000</td>\n",
       "      <td>97.600000</td>\n",
       "    </tr>\n",
       "  </tbody>\n",
       "</table>\n",
       "</div>"
      ],
      "text/plain": [
       "       Jumlah Laboratorium Kesehatan  Jumlah Posbindu PTM  \\\n",
       "count                      34.000000            34.000000   \n",
       "mean                       46.000000          2220.823529   \n",
       "std                        72.639417          2376.003118   \n",
       "min                         2.000000           124.000000   \n",
       "25%                        11.250000           714.750000   \n",
       "50%                        22.000000          1423.500000   \n",
       "75%                        34.750000          2526.750000   \n",
       "max                       317.000000         10432.000000   \n",
       "\n",
       "       Jumlah_UTD_Teregisterasi  \\\n",
       "count                 34.000000   \n",
       "mean                   7.794118   \n",
       "std                    7.772443   \n",
       "min                    0.000000   \n",
       "25%                    2.000000   \n",
       "50%                    5.500000   \n",
       "75%                   10.750000   \n",
       "max                   33.000000   \n",
       "\n",
       "       Persentase Puskesmas dengan 9 sesuai standar jenis nakes  \\\n",
       "count                                          34.000000          \n",
       "mean                                           47.435294          \n",
       "std                                            23.388483          \n",
       "min                                             8.600000          \n",
       "25%                                            29.825000          \n",
       "50%                                            51.100000          \n",
       "75%                                            60.625000          \n",
       "max                                           105.400000          \n",
       "\n",
       "       Persentase Puskemsmas dengan Ketersediaan Obat Esensial  \\\n",
       "count                                          34.000000         \n",
       "mean                                           91.264706         \n",
       "std                                             8.863643         \n",
       "min                                            63.000000         \n",
       "25%                                            89.000000         \n",
       "50%                                            93.500000         \n",
       "75%                                            98.000000         \n",
       "max                                           100.000000         \n",
       "\n",
       "       Persentase Puskesmas dengan Ketersediaan Vaksin IDL  \\\n",
       "count                                          34.000000     \n",
       "mean                                           96.944118     \n",
       "std                                             6.045143     \n",
       "min                                            70.300000     \n",
       "25%                                            95.875000     \n",
       "50%                                           100.000000     \n",
       "75%                                           100.000000     \n",
       "max                                           100.000000     \n",
       "\n",
       "       Persentase Puskesmas Tanpa Dokter  \\\n",
       "count                          34.000000   \n",
       "mean                            5.397059   \n",
       "std                             8.866125   \n",
       "min                             0.000000   \n",
       "25%                             0.425000   \n",
       "50%                             2.250000   \n",
       "75%                             5.375000   \n",
       "max                            42.600000   \n",
       "\n",
       "       Persentase RS KabKota Kelas C Memiliki 4 DokterSpesialis Dasar & 3 DokterSpesialis Penunjang  \\\n",
       "count                                          34.000000                                              \n",
       "mean                                           70.211765                                              \n",
       "std                                            19.908454                                              \n",
       "min                                             0.000000                                              \n",
       "25%                                            60.225000                                              \n",
       "50%                                            73.600000                                              \n",
       "75%                                            81.675000                                              \n",
       "max                                           100.000000                                              \n",
       "\n",
       "       Persentase Rumah Sakit Terakreditasi  Rasio Puskesmas Per Kecamatan  \\\n",
       "count                             34.000000                      34.000000   \n",
       "mean                              76.400000                       1.597353   \n",
       "std                                7.418976                       1.019460   \n",
       "min                               58.300000                       0.290000   \n",
       "25%                               72.825000                       1.342500   \n",
       "50%                               78.650000                       1.425000   \n",
       "75%                               80.950000                       1.547500   \n",
       "max                               90.300000                       7.100000   \n",
       "\n",
       "       Rasio Tempat Tidur Rumah Sakit Per 1000 Penduduk  \\\n",
       "count                                         34.000000   \n",
       "mean                                           1.532059   \n",
       "std                                            0.405042   \n",
       "min                                            0.950000   \n",
       "25%                                            1.270000   \n",
       "50%                                            1.445000   \n",
       "75%                                            1.822500   \n",
       "max                                            2.700000   \n",
       "\n",
       "       Pagu Anggaran (Dalam Jutaan Rupiah)  Persentase Realisasi  \n",
       "count                            34.000000             34.000000  \n",
       "mean                           7236.117647             85.532353  \n",
       "std                            2262.194493             11.562262  \n",
       "min                            3674.000000             48.100000  \n",
       "25%                            5458.750000             80.850000  \n",
       "50%                            6772.500000             88.800000  \n",
       "75%                            8170.750000             92.150000  \n",
       "max                           12079.000000             97.600000  "
      ]
     },
     "execution_count": 5,
     "metadata": {},
     "output_type": "execute_result"
    }
   ],
   "source": [
    "df.describe()"
   ]
  },
  {
   "cell_type": "code",
   "execution_count": 6,
   "id": "20a4d8c9",
   "metadata": {},
   "outputs": [
    {
     "name": "stdout",
     "output_type": "stream",
     "text": [
      "<class 'pandas.core.frame.DataFrame'>\n",
      "RangeIndex: 34 entries, 0 to 33\n",
      "Data columns (total 14 columns):\n",
      " #   Column                                                                                        Non-Null Count  Dtype  \n",
      "---  ------                                                                                        --------------  -----  \n",
      " 0   provinsi                                                                                      34 non-null     object \n",
      " 1   Jumlah Laboratorium Kesehatan                                                                 34 non-null     int64  \n",
      " 2   Jumlah Posbindu PTM                                                                           34 non-null     float64\n",
      " 3   Jumlah_UTD_Teregisterasi                                                                      34 non-null     int64  \n",
      " 4   Persentase Puskesmas dengan 9 sesuai standar jenis nakes                                      34 non-null     float64\n",
      " 5   Persentase Puskemsmas dengan Ketersediaan Obat Esensial                                       34 non-null     float64\n",
      " 6   Persentase Puskesmas dengan Ketersediaan Vaksin IDL                                           34 non-null     float64\n",
      " 7   Persentase Puskesmas Tanpa Dokter                                                             34 non-null     float64\n",
      " 8   Persentase RS KabKota Kelas C Memiliki 4 DokterSpesialis Dasar & 3 DokterSpesialis Penunjang  34 non-null     float64\n",
      " 9   Persentase Rumah Sakit Terakreditasi                                                          34 non-null     float64\n",
      " 10  Rasio Puskesmas Per Kecamatan                                                                 34 non-null     float64\n",
      " 11  Rasio Tempat Tidur Rumah Sakit Per 1000 Penduduk                                              34 non-null     float64\n",
      " 12  Pagu Anggaran (Dalam Jutaan Rupiah)                                                           34 non-null     int64  \n",
      " 13  Persentase Realisasi                                                                          34 non-null     float64\n",
      "dtypes: float64(10), int64(3), object(1)\n",
      "memory usage: 3.8+ KB\n"
     ]
    }
   ],
   "source": [
    "df.info()"
   ]
  },
  {
   "cell_type": "markdown",
   "id": "82bfaca4",
   "metadata": {},
   "source": [
    "## Exploratory Data Analysis"
   ]
  },
  {
   "cell_type": "markdown",
   "id": "d698647e",
   "metadata": {},
   "source": [
    "### Jumlah Laboratorium Kesehatan vs Pagu Anggaran & Realisasi"
   ]
  },
  {
   "cell_type": "code",
   "execution_count": 7,
   "id": "121e80f7",
   "metadata": {},
   "outputs": [
    {
     "data": {
      "text/plain": [
       "<seaborn.axisgrid.FacetGrid at 0x1f8207bbf70>"
      ]
     },
     "execution_count": 7,
     "metadata": {},
     "output_type": "execute_result"
    },
    {
     "data": {
      "image/png": "[encoded data removed]",
      "text/plain": [
       "<Figure size 520x360 with 1 Axes>"
      ]
     },
     "metadata": {},
     "output_type": "display_data"
    },
    {
     "data": {
      "image/png": "[encoded data removed]",
      "text/plain": [
       "<Figure size 520x360 with 1 Axes>"
      ]
     },
     "metadata": {},
     "output_type": "display_data"
    }
   ],
   "source": [
    "sns.set_style('whitegrid')\n",
    "\n",
    "sns.lmplot(x='Jumlah Laboratorium Kesehatan', y='Persentase Realisasi',data=df, hue='provinsi',\n",
    "           palette='coolwarm',aspect=1, fit_reg=False )\n",
    "\n",
    "sns.lmplot(x='Jumlah Laboratorium Kesehatan',y='Pagu Anggaran (Dalam Jutaan Rupiah)',data=df, hue='provinsi',\n",
    "           palette='coolwarm',aspect=1,fit_reg=False)"
   ]
  },
  {
   "cell_type": "markdown",
   "id": "09474a8c",
   "metadata": {},
   "source": [
    "### Jumlah Posbindu PTM vs Pagu Anggaran & Realisasi"
   ]
  },
  {
   "cell_type": "code",
   "execution_count": 8,
   "id": "726a566f",
   "metadata": {},
   "outputs": [
    {
     "data": {
      "text/plain": [
       "<seaborn.axisgrid.FacetGrid at 0x1f822c70e20>"
      ]
     },
     "execution_count": 8,
     "metadata": {},
     "output_type": "execute_result"
    },
    {
     "data": {
      "image/png": "[encoded data removed]",
      "text/plain": [
       "<Figure size 520x360 with 1 Axes>"
      ]
     },
     "metadata": {},
     "output_type": "display_data"
    },
    {
     "data": {
      "image/png": "[encoded data removed]",
      "text/plain": [
       "<Figure size 520x360 with 1 Axes>"
      ]
     },
     "metadata": {},
     "output_type": "display_data"
    }
   ],
   "source": [
    "sns.lmplot(x='Jumlah Posbindu PTM', y='Persentase Realisasi',data=df, hue='provinsi',\n",
    "           palette='coolwarm',aspect=1,fit_reg=False)\n",
    "\n",
    "sns.lmplot(x='Jumlah Posbindu PTM', y='Pagu Anggaran (Dalam Jutaan Rupiah)',data=df, hue='provinsi',\n",
    "           palette='coolwarm',aspect=1,fit_reg=False)"
   ]
  },
  {
   "cell_type": "markdown",
   "id": "9756a081",
   "metadata": {},
   "source": [
    "###  Jumlah_UTD_Teregisterasi vs Pagu Anggaran & Realisasi"
   ]
  },
  {
   "cell_type": "code",
   "execution_count": 9,
   "id": "fa22ffe2",
   "metadata": {},
   "outputs": [
    {
     "ename": "TypeError",
     "evalue": "lmplot() got multiple values for argument 'data'",
     "output_type": "error",
     "traceback": [
      "\u001b[1;31m---------------------------------------------------------------------------\u001b[0m",
      "\u001b[1;31mTypeError\u001b[0m                                 Traceback (most recent call last)",
      "Input \u001b[1;32mIn [9]\u001b[0m, in \u001b[0;36m<cell line: 1>\u001b[1;34m()\u001b[0m\n\u001b[1;32m----> 1\u001b[0m \u001b[43msns\u001b[49m\u001b[38;5;241;43m.\u001b[39;49m\u001b[43mlmplot\u001b[49m\u001b[43m(\u001b[49m\u001b[38;5;124;43m'\u001b[39;49m\u001b[38;5;124;43mJumlah_UTD_Teregisterasi\u001b[39;49m\u001b[38;5;124;43m'\u001b[39;49m\u001b[43m,\u001b[49m\u001b[38;5;124;43m'\u001b[39;49m\u001b[38;5;124;43mPersentase Realisasi\u001b[39;49m\u001b[38;5;124;43m'\u001b[39;49m\u001b[43m,\u001b[49m\u001b[43mdata\u001b[49m\u001b[38;5;241;43m=\u001b[39;49m\u001b[43mdf\u001b[49m\u001b[43m,\u001b[49m\u001b[43m \u001b[49m\u001b[43mhue\u001b[49m\u001b[38;5;241;43m=\u001b[39;49m\u001b[38;5;124;43m'\u001b[39;49m\u001b[38;5;124;43mprovinsi\u001b[39;49m\u001b[38;5;124;43m'\u001b[39;49m\u001b[43m,\u001b[49m\n\u001b[0;32m      2\u001b[0m \u001b[43m           \u001b[49m\u001b[43mpalette\u001b[49m\u001b[38;5;241;43m=\u001b[39;49m\u001b[38;5;124;43m'\u001b[39;49m\u001b[38;5;124;43mcoolwarm\u001b[39;49m\u001b[38;5;124;43m'\u001b[39;49m\u001b[43m,\u001b[49m\u001b[43maspect\u001b[49m\u001b[38;5;241;43m=\u001b[39;49m\u001b[38;5;241;43m1\u001b[39;49m\u001b[43m,\u001b[49m\u001b[43mfit_reg\u001b[49m\u001b[38;5;241;43m=\u001b[39;49m\u001b[38;5;28;43;01mFalse\u001b[39;49;00m\u001b[43m)\u001b[49m\n\u001b[0;32m      4\u001b[0m sns\u001b[38;5;241m.\u001b[39mlmplot(\u001b[38;5;124m'\u001b[39m\u001b[38;5;124mJumlah_UTD_Teregisterasi\u001b[39m\u001b[38;5;124m'\u001b[39m,\u001b[38;5;124m'\u001b[39m\u001b[38;5;124mPagu Anggaran (Dalam Jutaan Rupiah)\u001b[39m\u001b[38;5;124m'\u001b[39m,data\u001b[38;5;241m=\u001b[39mdf, hue\u001b[38;5;241m=\u001b[39m\u001b[38;5;124m'\u001b[39m\u001b[38;5;124mprovinsi\u001b[39m\u001b[38;5;124m'\u001b[39m,\n\u001b[0;32m      5\u001b[0m            palette\u001b[38;5;241m=\u001b[39m\u001b[38;5;124m'\u001b[39m\u001b[38;5;124mcoolwarm\u001b[39m\u001b[38;5;124m'\u001b[39m,aspect\u001b[38;5;241m=\u001b[39m\u001b[38;5;241m1\u001b[39m,fit_reg\u001b[38;5;241m=\u001b[39m\u001b[38;5;28;01mFalse\u001b[39;00m)\n",
      "\u001b[1;31mTypeError\u001b[0m: lmplot() got multiple values for argument 'data'"
     ]
    }
   ],
   "source": [
    "sns.lmplot('Jumlah_UTD_Teregisterasi','Persentase Realisasi',data=df, hue='provinsi',\n",
    "           palette='coolwarm',aspect=1,fit_reg=False)\n",
    "\n",
    "sns.lmplot('Jumlah_UTD_Teregisterasi','Pagu Anggaran (Dalam Jutaan Rupiah)',data=df, hue='provinsi',\n",
    "           palette='coolwarm',aspect=1,fit_reg=False)"
   ]
  },
  {
   "cell_type": "markdown",
   "id": "89328912",
   "metadata": {},
   "source": [
    "### Persentase Puskesmas dengan 9 sesuai standar jenis nakes vs Pagu Anggaran & Realisasi"
   ]
  },
  {
   "cell_type": "code",
   "execution_count": null,
   "id": "def7b1d5",
   "metadata": {},
   "outputs": [],
   "source": [
    "sns.lmplot('Persentase Puskesmas dengan 9 sesuai standar jenis nakes','Persentase Realisasi',data=df, hue='provinsi',\n",
    "           palette='coolwarm',aspect=1,fit_reg=False)\n",
    "\n",
    "sns.lmplot('Persentase Puskesmas dengan 9 sesuai standar jenis nakes','Pagu Anggaran (Dalam Jutaan Rupiah)',data=df, hue='provinsi',\n",
    "           palette='coolwarm',aspect=1,fit_reg=False)"
   ]
  },
  {
   "cell_type": "markdown",
   "id": "3dd08809",
   "metadata": {},
   "source": [
    "### Persentase Puskemsmas dengan Ketersediaan Obat Esensial vs Pagu Anggaran & Realisasi"
   ]
  },
  {
   "cell_type": "code",
   "execution_count": null,
   "id": "43c20020",
   "metadata": {},
   "outputs": [],
   "source": [
    "sns.lmplot('Persentase Puskemsmas dengan Ketersediaan Obat Esensial','Persentase Realisasi',data=df, hue='provinsi',\n",
    "           palette='coolwarm',aspect=1,fit_reg=False)\n",
    "\n",
    "sns.lmplot('Persentase Puskemsmas dengan Ketersediaan Obat Esensial','Pagu Anggaran (Dalam Jutaan Rupiah)',data=df, hue='provinsi',\n",
    "           palette='coolwarm',aspect=1,fit_reg=False)"
   ]
  },
  {
   "cell_type": "markdown",
   "id": "7a029d67",
   "metadata": {},
   "source": [
    "### Persentase Puskesmas dengan Ketersediaan Vaksin IDL vs Pagu Anggaran & Realisasi"
   ]
  },
  {
   "cell_type": "code",
   "execution_count": null,
   "id": "c1412f21",
   "metadata": {},
   "outputs": [],
   "source": [
    "sns.lmplot('Persentase Puskesmas dengan Ketersediaan Vaksin IDL','Persentase Realisasi',data=df, hue='provinsi',\n",
    "           palette='coolwarm',aspect=1,fit_reg=False)\n",
    "\n",
    "sns.lmplot('Persentase Puskesmas dengan Ketersediaan Vaksin IDL','Pagu Anggaran (Dalam Jutaan Rupiah)',data=df, hue='provinsi',\n",
    "           palette='coolwarm',aspect=1,fit_reg=False)"
   ]
  },
  {
   "cell_type": "markdown",
   "id": "55aab52a",
   "metadata": {},
   "source": [
    "### Persentase Puskesmas Tanpa Dokter vs Pagu Anggaran & Realisasi"
   ]
  },
  {
   "cell_type": "code",
   "execution_count": null,
   "id": "33002c97",
   "metadata": {},
   "outputs": [],
   "source": [
    "\n",
    "\n",
    "sns.lmplot('Persentase Puskesmas Tanpa Dokter','Persentase Realisasi',data=df, hue='provinsi',\n",
    "           palette='coolwarm',aspect=1,fit_reg=False)\n",
    "\n",
    "sns.lmplot('Persentase Puskesmas Tanpa Dokter','Pagu Anggaran (Dalam Jutaan Rupiah)',data=df, hue='provinsi',\n",
    "           palette='coolwarm',aspect=1,fit_reg=False)"
   ]
  },
  {
   "cell_type": "markdown",
   "id": "83bb0230",
   "metadata": {},
   "source": [
    "### Persentase RS KabKota Kelas C Memiliki 4 DokterSpesialis Dasar & 3 DokterSpesialis Penunjang vs Pagu Anggaran & Realisasi"
   ]
  },
  {
   "cell_type": "code",
   "execution_count": null,
   "id": "2a80505f",
   "metadata": {},
   "outputs": [],
   "source": [
    "sns.lmplot('Persentase RS KabKota Kelas C Memiliki 4 DokterSpesialis Dasar & 3 DokterSpesialis Penunjang','Persentase Realisasi',data=df, hue='provinsi',\n",
    "           palette='coolwarm',aspect=1,fit_reg=False)\n",
    "\n",
    "sns.lmplot('Persentase RS KabKota Kelas C Memiliki 4 DokterSpesialis Dasar & 3 DokterSpesialis Penunjang','Pagu Anggaran (Dalam Jutaan Rupiah)',data=df, hue='provinsi',\n",
    "           palette='coolwarm',aspect=1,fit_reg=False)"
   ]
  },
  {
   "cell_type": "markdown",
   "id": "8d946c3f",
   "metadata": {},
   "source": [
    "### Persentase Rumah Sakit Terakreditasi vs Pagu Anggaran & Realisasi"
   ]
  },
  {
   "cell_type": "code",
   "execution_count": null,
   "id": "98fe8544",
   "metadata": {},
   "outputs": [],
   "source": [
    "sns.lmplot('Persentase Rumah Sakit Terakreditasi','Persentase Realisasi',data=df, hue='provinsi',\n",
    "           palette='coolwarm',aspect=1,fit_reg=False)\n",
    "\n",
    "sns.lmplot('Persentase Rumah Sakit Terakreditasi','Pagu Anggaran (Dalam Jutaan Rupiah)',data=df, hue='provinsi',\n",
    "           palette='coolwarm',aspect=1,fit_reg=False)"
   ]
  },
  {
   "cell_type": "markdown",
   "id": "19781b02",
   "metadata": {},
   "source": [
    "### Rasio Puskesmas Per Kecamatan  vs Pagu Anggaran & Realisasi"
   ]
  },
  {
   "cell_type": "code",
   "execution_count": null,
   "id": "826f4710",
   "metadata": {},
   "outputs": [],
   "source": [
    " \n",
    "sns.lmplot('Rasio Puskesmas Per Kecamatan','Persentase Realisasi',data=df, hue='provinsi',\n",
    "           palette='coolwarm',aspect=1,fit_reg=False)\n",
    "\n",
    "sns.lmplot('Rasio Puskesmas Per Kecamatan','Pagu Anggaran (Dalam Jutaan Rupiah)',data=df, hue='provinsi',\n",
    "           palette='coolwarm',aspect=1,fit_reg=False)"
   ]
  },
  {
   "cell_type": "markdown",
   "id": "edc57b42",
   "metadata": {},
   "source": [
    "### Rasio Tempat Tidur Rumah Sakit Per 1000 Penduduk  vs Pagu Anggaran & Realisasi"
   ]
  },
  {
   "cell_type": "code",
   "execution_count": null,
   "id": "4f5f5f02",
   "metadata": {},
   "outputs": [],
   "source": [
    "sns.lmplot('Rasio Tempat Tidur Rumah Sakit Per 1000 Penduduk','Persentase Realisasi',data=df, hue='provinsi',\n",
    "           palette='coolwarm',aspect=1,fit_reg=False)\n",
    "\n",
    "sns.lmplot('Rasio Tempat Tidur Rumah Sakit Per 1000 Penduduk','Pagu Anggaran (Dalam Jutaan Rupiah)',data=df, hue='provinsi',\n",
    "           palette='coolwarm',aspect=1,fit_reg=False)"
   ]
  },
  {
   "cell_type": "code",
   "execution_count": null,
   "id": "2dc71325",
   "metadata": {},
   "outputs": [],
   "source": [
    "dfcorr= df.corr().loc[:'Rasio Tempat Tidur Rumah Sakit Per 1000 Penduduk', 'Pagu Anggaran (Dalam Jutaan Rupiah)':]\n",
    "dfcorr"
   ]
  },
  {
   "cell_type": "code",
   "execution_count": null,
   "id": "923fce93",
   "metadata": {},
   "outputs": [],
   "source": [
    "plt.figure(figsize=(40,30))\n",
    "sns.heatmap(dfcorr, annot=True, cmap='Greens', annot_kws={\"size\":50} )\n",
    "plt.xticks(fontsize=40)\n",
    "plt.yticks(fontsize=40)\n",
    "plt.show()"
   ]
  },
  {
   "cell_type": "code",
   "execution_count": null,
   "id": "de19330e",
   "metadata": {},
   "outputs": [],
   "source": [
    "dfcorr_1= df.corr()\n",
    "dfcorr_1"
   ]
  },
  {
   "cell_type": "code",
   "execution_count": null,
   "id": "4e06ca1a",
   "metadata": {},
   "outputs": [],
   "source": [
    "plt.figure(figsize=(40,30))\n",
    "sns.heatmap(dfcorr_1, annot=True, cmap='Greens', annot_kws={\"size\":50} )\n",
    "plt.xticks(fontsize=40)\n",
    "plt.yticks(fontsize=40)\n",
    "plt.show()"
   ]
  },
  {
   "cell_type": "code",
   "execution_count": 10,
   "id": "524fdda8",
   "metadata": {},
   "outputs": [
    {
     "data": {
      "text/html": [
       "<div>\n",
       "<style scoped>\n",
       "    .dataframe tbody tr th:only-of-type {\n",
       "        vertical-align: middle;\n",
       "    }\n",
       "\n",
       "    .dataframe tbody tr th {\n",
       "        vertical-align: top;\n",
       "    }\n",
       "\n",
       "    .dataframe thead th {\n",
       "        text-align: right;\n",
       "    }\n",
       "</style>\n",
       "<table border=\"1\" class=\"dataframe\">\n",
       "  <thead>\n",
       "    <tr style=\"text-align: right;\">\n",
       "      <th></th>\n",
       "      <th>provinsi</th>\n",
       "      <th>Jumlah Laboratorium Kesehatan</th>\n",
       "      <th>Jumlah Posbindu PTM</th>\n",
       "      <th>Jumlah_UTD_Teregisterasi</th>\n",
       "      <th>Persentase Puskesmas dengan 9 sesuai standar jenis nakes</th>\n",
       "      <th>Persentase Puskemsmas dengan Ketersediaan Obat Esensial</th>\n",
       "      <th>Persentase Puskesmas dengan Ketersediaan Vaksin IDL</th>\n",
       "      <th>Persentase Puskesmas Tanpa Dokter</th>\n",
       "      <th>Persentase RS KabKota Kelas C Memiliki 4 DokterSpesialis Dasar &amp; 3 DokterSpesialis Penunjang</th>\n",
       "      <th>Persentase Rumah Sakit Terakreditasi</th>\n",
       "      <th>Rasio Puskesmas Per Kecamatan</th>\n",
       "      <th>Rasio Tempat Tidur Rumah Sakit Per 1000 Penduduk</th>\n",
       "      <th>Pagu Anggaran (Dalam Jutaan Rupiah)</th>\n",
       "      <th>Persentase Realisasi</th>\n",
       "    </tr>\n",
       "  </thead>\n",
       "  <tbody>\n",
       "    <tr>\n",
       "      <th>0</th>\n",
       "      <td>Jawa Barat</td>\n",
       "      <td>317</td>\n",
       "      <td>7274.0</td>\n",
       "      <td>18</td>\n",
       "      <td>46.4</td>\n",
       "      <td>94.0</td>\n",
       "      <td>92.6</td>\n",
       "      <td>0.7</td>\n",
       "      <td>80.8</td>\n",
       "      <td>82.9</td>\n",
       "      <td>1.73</td>\n",
       "      <td>1.04</td>\n",
       "      <td>11303</td>\n",
       "      <td>48.1</td>\n",
       "    </tr>\n",
       "    <tr>\n",
       "      <th>1</th>\n",
       "      <td>DKI Jakarta</td>\n",
       "      <td>233</td>\n",
       "      <td>1828.0</td>\n",
       "      <td>4</td>\n",
       "      <td>105.4</td>\n",
       "      <td>99.0</td>\n",
       "      <td>100.0</td>\n",
       "      <td>0.0</td>\n",
       "      <td>0.0</td>\n",
       "      <td>86.2</td>\n",
       "      <td>7.10</td>\n",
       "      <td>2.37</td>\n",
       "      <td>5054</td>\n",
       "      <td>88.4</td>\n",
       "    </tr>\n",
       "    <tr>\n",
       "      <th>2</th>\n",
       "      <td>Jawa Timur</td>\n",
       "      <td>217</td>\n",
       "      <td>10432.0</td>\n",
       "      <td>30</td>\n",
       "      <td>61.0</td>\n",
       "      <td>98.0</td>\n",
       "      <td>98.2</td>\n",
       "      <td>0.7</td>\n",
       "      <td>86.7</td>\n",
       "      <td>79.3</td>\n",
       "      <td>1.46</td>\n",
       "      <td>1.27</td>\n",
       "      <td>7281</td>\n",
       "      <td>79.9</td>\n",
       "    </tr>\n",
       "    <tr>\n",
       "      <th>3</th>\n",
       "      <td>Jawa Tengah</td>\n",
       "      <td>154</td>\n",
       "      <td>8366.0</td>\n",
       "      <td>33</td>\n",
       "      <td>81.6</td>\n",
       "      <td>88.0</td>\n",
       "      <td>82.3</td>\n",
       "      <td>0.1</td>\n",
       "      <td>94.6</td>\n",
       "      <td>84.5</td>\n",
       "      <td>1.53</td>\n",
       "      <td>1.31</td>\n",
       "      <td>5833</td>\n",
       "      <td>83.8</td>\n",
       "    </tr>\n",
       "    <tr>\n",
       "      <th>4</th>\n",
       "      <td>Nusa Tenggara Timur</td>\n",
       "      <td>62</td>\n",
       "      <td>2992.0</td>\n",
       "      <td>2</td>\n",
       "      <td>25.8</td>\n",
       "      <td>96.0</td>\n",
       "      <td>92.5</td>\n",
       "      <td>9.6</td>\n",
       "      <td>71.4</td>\n",
       "      <td>80.4</td>\n",
       "      <td>1.36</td>\n",
       "      <td>1.00</td>\n",
       "      <td>6129</td>\n",
       "      <td>92.2</td>\n",
       "    </tr>\n",
       "  </tbody>\n",
       "</table>\n",
       "</div>"
      ],
      "text/plain": [
       "              provinsi  Jumlah Laboratorium Kesehatan  Jumlah Posbindu PTM  \\\n",
       "0           Jawa Barat                            317               7274.0   \n",
       "1          DKI Jakarta                            233               1828.0   \n",
       "2           Jawa Timur                            217              10432.0   \n",
       "3          Jawa Tengah                            154               8366.0   \n",
       "4  Nusa Tenggara Timur                             62               2992.0   \n",
       "\n",
       "   Jumlah_UTD_Teregisterasi  \\\n",
       "0                        18   \n",
       "1                         4   \n",
       "2                        30   \n",
       "3                        33   \n",
       "4                         2   \n",
       "\n",
       "   Persentase Puskesmas dengan 9 sesuai standar jenis nakes  \\\n",
       "0                                               46.4          \n",
       "1                                              105.4          \n",
       "2                                               61.0          \n",
       "3                                               81.6          \n",
       "4                                               25.8          \n",
       "\n",
       "   Persentase Puskemsmas dengan Ketersediaan Obat Esensial  \\\n",
       "0                                               94.0         \n",
       "1                                               99.0         \n",
       "2                                               98.0         \n",
       "3                                               88.0         \n",
       "4                                               96.0         \n",
       "\n",
       "   Persentase Puskesmas dengan Ketersediaan Vaksin IDL  \\\n",
       "0                                               92.6     \n",
       "1                                              100.0     \n",
       "2                                               98.2     \n",
       "3                                               82.3     \n",
       "4                                               92.5     \n",
       "\n",
       "   Persentase Puskesmas Tanpa Dokter  \\\n",
       "0                                0.7   \n",
       "1                                0.0   \n",
       "2                                0.7   \n",
       "3                                0.1   \n",
       "4                                9.6   \n",
       "\n",
       "   Persentase RS KabKota Kelas C Memiliki 4 DokterSpesialis Dasar & 3 DokterSpesialis Penunjang  \\\n",
       "0                                               80.8                                              \n",
       "1                                                0.0                                              \n",
       "2                                               86.7                                              \n",
       "3                                               94.6                                              \n",
       "4                                               71.4                                              \n",
       "\n",
       "   Persentase Rumah Sakit Terakreditasi  Rasio Puskesmas Per Kecamatan  \\\n",
       "0                                  82.9                           1.73   \n",
       "1                                  86.2                           7.10   \n",
       "2                                  79.3                           1.46   \n",
       "3                                  84.5                           1.53   \n",
       "4                                  80.4                           1.36   \n",
       "\n",
       "   Rasio Tempat Tidur Rumah Sakit Per 1000 Penduduk  \\\n",
       "0                                              1.04   \n",
       "1                                              2.37   \n",
       "2                                              1.27   \n",
       "3                                              1.31   \n",
       "4                                              1.00   \n",
       "\n",
       "   Pagu Anggaran (Dalam Jutaan Rupiah)  Persentase Realisasi  \n",
       "0                                11303                  48.1  \n",
       "1                                 5054                  88.4  \n",
       "2                                 7281                  79.9  \n",
       "3                                 5833                  83.8  \n",
       "4                                 6129                  92.2  "
      ]
     },
     "execution_count": 10,
     "metadata": {},
     "output_type": "execute_result"
    }
   ],
   "source": [
    "df.head()"
   ]
  },
  {
   "cell_type": "code",
   "execution_count": 11,
   "id": "f2c7b651",
   "metadata": {},
   "outputs": [
    {
     "data": {
      "text/html": [
       "<div>\n",
       "<style scoped>\n",
       "    .dataframe tbody tr th:only-of-type {\n",
       "        vertical-align: middle;\n",
       "    }\n",
       "\n",
       "    .dataframe tbody tr th {\n",
       "        vertical-align: top;\n",
       "    }\n",
       "\n",
       "    .dataframe thead th {\n",
       "        text-align: right;\n",
       "    }\n",
       "</style>\n",
       "<table border=\"1\" class=\"dataframe\">\n",
       "  <thead>\n",
       "    <tr style=\"text-align: right;\">\n",
       "      <th></th>\n",
       "      <th>Jumlah Laboratorium Kesehatan</th>\n",
       "      <th>Jumlah Posbindu PTM</th>\n",
       "      <th>Jumlah_UTD_Teregisterasi</th>\n",
       "      <th>Persentase Puskesmas dengan 9 sesuai standar jenis nakes</th>\n",
       "      <th>Persentase Puskemsmas dengan Ketersediaan Obat Esensial</th>\n",
       "      <th>Persentase Puskesmas dengan Ketersediaan Vaksin IDL</th>\n",
       "      <th>Persentase Puskesmas Tanpa Dokter</th>\n",
       "      <th>Persentase RS KabKota Kelas C Memiliki 4 DokterSpesialis Dasar &amp; 3 DokterSpesialis Penunjang</th>\n",
       "      <th>Persentase Rumah Sakit Terakreditasi</th>\n",
       "      <th>Rasio Puskesmas Per Kecamatan</th>\n",
       "      <th>Rasio Tempat Tidur Rumah Sakit Per 1000 Penduduk</th>\n",
       "      <th>Pagu Anggaran (Dalam Jutaan Rupiah)</th>\n",
       "      <th>Persentase Realisasi</th>\n",
       "    </tr>\n",
       "    <tr>\n",
       "      <th>provinsi</th>\n",
       "      <th></th>\n",
       "      <th></th>\n",
       "      <th></th>\n",
       "      <th></th>\n",
       "      <th></th>\n",
       "      <th></th>\n",
       "      <th></th>\n",
       "      <th></th>\n",
       "      <th></th>\n",
       "      <th></th>\n",
       "      <th></th>\n",
       "      <th></th>\n",
       "      <th></th>\n",
       "    </tr>\n",
       "  </thead>\n",
       "  <tbody>\n",
       "    <tr>\n",
       "      <th>Jawa Barat</th>\n",
       "      <td>317</td>\n",
       "      <td>7274.0</td>\n",
       "      <td>18</td>\n",
       "      <td>46.4</td>\n",
       "      <td>94.0</td>\n",
       "      <td>92.6</td>\n",
       "      <td>0.7</td>\n",
       "      <td>80.8</td>\n",
       "      <td>82.9</td>\n",
       "      <td>1.73</td>\n",
       "      <td>1.04</td>\n",
       "      <td>11303</td>\n",
       "      <td>48.1</td>\n",
       "    </tr>\n",
       "    <tr>\n",
       "      <th>DKI Jakarta</th>\n",
       "      <td>233</td>\n",
       "      <td>1828.0</td>\n",
       "      <td>4</td>\n",
       "      <td>105.4</td>\n",
       "      <td>99.0</td>\n",
       "      <td>100.0</td>\n",
       "      <td>0.0</td>\n",
       "      <td>0.0</td>\n",
       "      <td>86.2</td>\n",
       "      <td>7.10</td>\n",
       "      <td>2.37</td>\n",
       "      <td>5054</td>\n",
       "      <td>88.4</td>\n",
       "    </tr>\n",
       "    <tr>\n",
       "      <th>Jawa Timur</th>\n",
       "      <td>217</td>\n",
       "      <td>10432.0</td>\n",
       "      <td>30</td>\n",
       "      <td>61.0</td>\n",
       "      <td>98.0</td>\n",
       "      <td>98.2</td>\n",
       "      <td>0.7</td>\n",
       "      <td>86.7</td>\n",
       "      <td>79.3</td>\n",
       "      <td>1.46</td>\n",
       "      <td>1.27</td>\n",
       "      <td>7281</td>\n",
       "      <td>79.9</td>\n",
       "    </tr>\n",
       "    <tr>\n",
       "      <th>Jawa Tengah</th>\n",
       "      <td>154</td>\n",
       "      <td>8366.0</td>\n",
       "      <td>33</td>\n",
       "      <td>81.6</td>\n",
       "      <td>88.0</td>\n",
       "      <td>82.3</td>\n",
       "      <td>0.1</td>\n",
       "      <td>94.6</td>\n",
       "      <td>84.5</td>\n",
       "      <td>1.53</td>\n",
       "      <td>1.31</td>\n",
       "      <td>5833</td>\n",
       "      <td>83.8</td>\n",
       "    </tr>\n",
       "    <tr>\n",
       "      <th>Nusa Tenggara Timur</th>\n",
       "      <td>62</td>\n",
       "      <td>2992.0</td>\n",
       "      <td>2</td>\n",
       "      <td>25.8</td>\n",
       "      <td>96.0</td>\n",
       "      <td>92.5</td>\n",
       "      <td>9.6</td>\n",
       "      <td>71.4</td>\n",
       "      <td>80.4</td>\n",
       "      <td>1.36</td>\n",
       "      <td>1.00</td>\n",
       "      <td>6129</td>\n",
       "      <td>92.2</td>\n",
       "    </tr>\n",
       "  </tbody>\n",
       "</table>\n",
       "</div>"
      ],
      "text/plain": [
       "                     Jumlah Laboratorium Kesehatan  Jumlah Posbindu PTM  \\\n",
       "provinsi                                                                  \n",
       "Jawa Barat                                     317               7274.0   \n",
       "DKI Jakarta                                    233               1828.0   \n",
       "Jawa Timur                                     217              10432.0   \n",
       "Jawa Tengah                                    154               8366.0   \n",
       "Nusa Tenggara Timur                             62               2992.0   \n",
       "\n",
       "                     Jumlah_UTD_Teregisterasi  \\\n",
       "provinsi                                        \n",
       "Jawa Barat                                 18   \n",
       "DKI Jakarta                                 4   \n",
       "Jawa Timur                                 30   \n",
       "Jawa Tengah                                33   \n",
       "Nusa Tenggara Timur                         2   \n",
       "\n",
       "                     Persentase Puskesmas dengan 9 sesuai standar jenis nakes  \\\n",
       "provinsi                                                                        \n",
       "Jawa Barat                                                        46.4          \n",
       "DKI Jakarta                                                      105.4          \n",
       "Jawa Timur                                                        61.0          \n",
       "Jawa Tengah                                                       81.6          \n",
       "Nusa Tenggara Timur                                               25.8          \n",
       "\n",
       "                     Persentase Puskemsmas dengan Ketersediaan Obat Esensial  \\\n",
       "provinsi                                                                       \n",
       "Jawa Barat                                                        94.0         \n",
       "DKI Jakarta                                                       99.0         \n",
       "Jawa Timur                                                        98.0         \n",
       "Jawa Tengah                                                       88.0         \n",
       "Nusa Tenggara Timur                                               96.0         \n",
       "\n",
       "                     Persentase Puskesmas dengan Ketersediaan Vaksin IDL  \\\n",
       "provinsi                                                                   \n",
       "Jawa Barat                                                        92.6     \n",
       "DKI Jakarta                                                      100.0     \n",
       "Jawa Timur                                                        98.2     \n",
       "Jawa Tengah                                                       82.3     \n",
       "Nusa Tenggara Timur                                               92.5     \n",
       "\n",
       "                     Persentase Puskesmas Tanpa Dokter  \\\n",
       "provinsi                                                 \n",
       "Jawa Barat                                         0.7   \n",
       "DKI Jakarta                                        0.0   \n",
       "Jawa Timur                                         0.7   \n",
       "Jawa Tengah                                        0.1   \n",
       "Nusa Tenggara Timur                                9.6   \n",
       "\n",
       "                     Persentase RS KabKota Kelas C Memiliki 4 DokterSpesialis Dasar & 3 DokterSpesialis Penunjang  \\\n",
       "provinsi                                                                                                            \n",
       "Jawa Barat                                                        80.8                                              \n",
       "DKI Jakarta                                                        0.0                                              \n",
       "Jawa Timur                                                        86.7                                              \n",
       "Jawa Tengah                                                       94.6                                              \n",
       "Nusa Tenggara Timur                                               71.4                                              \n",
       "\n",
       "                     Persentase Rumah Sakit Terakreditasi  \\\n",
       "provinsi                                                    \n",
       "Jawa Barat                                           82.9   \n",
       "DKI Jakarta                                          86.2   \n",
       "Jawa Timur                                           79.3   \n",
       "Jawa Tengah                                          84.5   \n",
       "Nusa Tenggara Timur                                  80.4   \n",
       "\n",
       "                     Rasio Puskesmas Per Kecamatan  \\\n",
       "provinsi                                             \n",
       "Jawa Barat                                    1.73   \n",
       "DKI Jakarta                                   7.10   \n",
       "Jawa Timur                                    1.46   \n",
       "Jawa Tengah                                   1.53   \n",
       "Nusa Tenggara Timur                           1.36   \n",
       "\n",
       "                     Rasio Tempat Tidur Rumah Sakit Per 1000 Penduduk  \\\n",
       "provinsi                                                                \n",
       "Jawa Barat                                                       1.04   \n",
       "DKI Jakarta                                                      2.37   \n",
       "Jawa Timur                                                       1.27   \n",
       "Jawa Tengah                                                      1.31   \n",
       "Nusa Tenggara Timur                                              1.00   \n",
       "\n",
       "                     Pagu Anggaran (Dalam Jutaan Rupiah)  Persentase Realisasi  \n",
       "provinsi                                                                        \n",
       "Jawa Barat                                         11303                  48.1  \n",
       "DKI Jakarta                                         5054                  88.4  \n",
       "Jawa Timur                                          7281                  79.9  \n",
       "Jawa Tengah                                         5833                  83.8  \n",
       "Nusa Tenggara Timur                                 6129                  92.2  "
      ]
     },
     "execution_count": 11,
     "metadata": {},
     "output_type": "execute_result"
    }
   ],
   "source": [
    "df = df.set_index('provinsi')\n",
    "df.head()"
   ]
  },
  {
   "cell_type": "code",
   "execution_count": 12,
   "id": "5543fae1",
   "metadata": {},
   "outputs": [],
   "source": [
    "from sklearn.preprocessing import StandardScaler"
   ]
  },
  {
   "cell_type": "code",
   "execution_count": 13,
   "id": "fb6e9785",
   "metadata": {},
   "outputs": [
    {
     "data": {
      "text/html": [
       "<style>#sk-container-id-1 {color: black;background-color: white;}#sk-container-id-1 pre{padding: 0;}#sk-container-id-1 div.sk-toggleable {background-color: white;}#sk-container-id-1 label.sk-toggleable__label {cursor: pointer;display: block;width: 100%;margin-bottom: 0;padding: 0.3em;box-sizing: border-box;text-align: center;}#sk-container-id-1 label.sk-toggleable__label-arrow:before {content: \"▸\";float: left;margin-right: 0.25em;color: #696969;}#sk-container-id-1 label.sk-toggleable__label-arrow:hover:before {color: black;}#sk-container-id-1 div.sk-estimator:hover label.sk-toggleable__label-arrow:before {color: black;}#sk-container-id-1 div.sk-toggleable__content {max-height: 0;max-width: 0;overflow: hidden;text-align: left;background-color: #f0f8ff;}#sk-container-id-1 div.sk-toggleable__content pre {margin: 0.2em;color: black;border-radius: 0.25em;background-color: #f0f8ff;}#sk-container-id-1 input.sk-toggleable__control:checked~div.sk-toggleable__content {max-height: 200px;max-width: 100%;overflow: auto;}#sk-container-id-1 input.sk-toggleable__control:checked~label.sk-toggleable__label-arrow:before {content: \"▾\";}#sk-container-id-1 div.sk-estimator input.sk-toggleable__control:checked~label.sk-toggleable__label {background-color: #d4ebff;}#sk-container-id-1 div.sk-label input.sk-toggleable__control:checked~label.sk-toggleable__label {background-color: #d4ebff;}#sk-container-id-1 input.sk-hidden--visually {border: 0;clip: rect(1px 1px 1px 1px);clip: rect(1px, 1px, 1px, 1px);height: 1px;margin: -1px;overflow: hidden;padding: 0;position: absolute;width: 1px;}#sk-container-id-1 div.sk-estimator {font-family: monospace;background-color: #f0f8ff;border: 1px dotted black;border-radius: 0.25em;box-sizing: border-box;margin-bottom: 0.5em;}#sk-container-id-1 div.sk-estimator:hover {background-color: #d4ebff;}#sk-container-id-1 div.sk-parallel-item::after {content: \"\";width: 100%;border-bottom: 1px solid gray;flex-grow: 1;}#sk-container-id-1 div.sk-label:hover label.sk-toggleable__label {background-color: #d4ebff;}#sk-container-id-1 div.sk-serial::before {content: \"\";position: absolute;border-left: 1px solid gray;box-sizing: border-box;top: 0;bottom: 0;left: 50%;z-index: 0;}#sk-container-id-1 div.sk-serial {display: flex;flex-direction: column;align-items: center;background-color: white;padding-right: 0.2em;padding-left: 0.2em;position: relative;}#sk-container-id-1 div.sk-item {position: relative;z-index: 1;}#sk-container-id-1 div.sk-parallel {display: flex;align-items: stretch;justify-content: center;background-color: white;position: relative;}#sk-container-id-1 div.sk-item::before, #sk-container-id-1 div.sk-parallel-item::before {content: \"\";position: absolute;border-left: 1px solid gray;box-sizing: border-box;top: 0;bottom: 0;left: 50%;z-index: -1;}#sk-container-id-1 div.sk-parallel-item {display: flex;flex-direction: column;z-index: 1;position: relative;background-color: white;}#sk-container-id-1 div.sk-parallel-item:first-child::after {align-self: flex-end;width: 50%;}#sk-container-id-1 div.sk-parallel-item:last-child::after {align-self: flex-start;width: 50%;}#sk-container-id-1 div.sk-parallel-item:only-child::after {width: 0;}#sk-container-id-1 div.sk-dashed-wrapped {border: 1px dashed gray;margin: 0 0.4em 0.5em 0.4em;box-sizing: border-box;padding-bottom: 0.4em;background-color: white;}#sk-container-id-1 div.sk-label label {font-family: monospace;font-weight: bold;display: inline-block;line-height: 1.2em;}#sk-container-id-1 div.sk-label-container {text-align: center;}#sk-container-id-1 div.sk-container {/* jupyter's `normalize.less` sets `[hidden] { display: none; }` but bootstrap.min.css set `[hidden] { display: none !important; }` so we also need the `!important` here to be able to override the default hidden behavior on the sphinx rendered scikit-learn.org. See: https://github.com/scikit-learn/scikit-learn/issues/21755 */display: inline-block !important;position: relative;}#sk-container-id-1 div.sk-text-repr-fallback {display: none;}</style><div id=\"sk-container-id-1\" class=\"sk-top-container\"><div class=\"sk-text-repr-fallback\"><pre>StandardScaler()</pre><b>In a Jupyter environment, please rerun this cell to show the HTML representation or trust the notebook. <br />On GitHub, the HTML representation is unable to render, please try loading this page with nbviewer.org.</b></div><div class=\"sk-container\" hidden><div class=\"sk-item\"><div class=\"sk-estimator sk-toggleable\"><input class=\"sk-toggleable__control sk-hidden--visually\" id=\"sk-estimator-id-1\" type=\"checkbox\" checked><label for=\"sk-estimator-id-1\" class=\"sk-toggleable__label sk-toggleable__label-arrow\">StandardScaler</label><div class=\"sk-toggleable__content\"><pre>StandardScaler()</pre></div></div></div></div></div>"
      ],
      "text/plain": [
       "StandardScaler()"
      ]
     },
     "execution_count": 13,
     "metadata": {},
     "output_type": "execute_result"
    }
   ],
   "source": [
    "scaler = StandardScaler()\n",
    "scaler.fit(df)"
   ]
  },
  {
   "cell_type": "code",
   "execution_count": 14,
   "id": "52cabc01",
   "metadata": {},
   "outputs": [],
   "source": [
    "scaled_data = scaler.transform(df)"
   ]
  },
  {
   "cell_type": "code",
   "execution_count": 15,
   "id": "719c0028",
   "metadata": {},
   "outputs": [
    {
     "data": {
      "text/html": [
       "<style>#sk-container-id-2 {color: black;background-color: white;}#sk-container-id-2 pre{padding: 0;}#sk-container-id-2 div.sk-toggleable {background-color: white;}#sk-container-id-2 label.sk-toggleable__label {cursor: pointer;display: block;width: 100%;margin-bottom: 0;padding: 0.3em;box-sizing: border-box;text-align: center;}#sk-container-id-2 label.sk-toggleable__label-arrow:before {content: \"▸\";float: left;margin-right: 0.25em;color: #696969;}#sk-container-id-2 label.sk-toggleable__label-arrow:hover:before {color: black;}#sk-container-id-2 div.sk-estimator:hover label.sk-toggleable__label-arrow:before {color: black;}#sk-container-id-2 div.sk-toggleable__content {max-height: 0;max-width: 0;overflow: hidden;text-align: left;background-color: #f0f8ff;}#sk-container-id-2 div.sk-toggleable__content pre {margin: 0.2em;color: black;border-radius: 0.25em;background-color: #f0f8ff;}#sk-container-id-2 input.sk-toggleable__control:checked~div.sk-toggleable__content {max-height: 200px;max-width: 100%;overflow: auto;}#sk-container-id-2 input.sk-toggleable__control:checked~label.sk-toggleable__label-arrow:before {content: \"▾\";}#sk-container-id-2 div.sk-estimator input.sk-toggleable__control:checked~label.sk-toggleable__label {background-color: #d4ebff;}#sk-container-id-2 div.sk-label input.sk-toggleable__control:checked~label.sk-toggleable__label {background-color: #d4ebff;}#sk-container-id-2 input.sk-hidden--visually {border: 0;clip: rect(1px 1px 1px 1px);clip: rect(1px, 1px, 1px, 1px);height: 1px;margin: -1px;overflow: hidden;padding: 0;position: absolute;width: 1px;}#sk-container-id-2 div.sk-estimator {font-family: monospace;background-color: #f0f8ff;border: 1px dotted black;border-radius: 0.25em;box-sizing: border-box;margin-bottom: 0.5em;}#sk-container-id-2 div.sk-estimator:hover {background-color: #d4ebff;}#sk-container-id-2 div.sk-parallel-item::after {content: \"\";width: 100%;border-bottom: 1px solid gray;flex-grow: 1;}#sk-container-id-2 div.sk-label:hover label.sk-toggleable__label {background-color: #d4ebff;}#sk-container-id-2 div.sk-serial::before {content: \"\";position: absolute;border-left: 1px solid gray;box-sizing: border-box;top: 0;bottom: 0;left: 50%;z-index: 0;}#sk-container-id-2 div.sk-serial {display: flex;flex-direction: column;align-items: center;background-color: white;padding-right: 0.2em;padding-left: 0.2em;position: relative;}#sk-container-id-2 div.sk-item {position: relative;z-index: 1;}#sk-container-id-2 div.sk-parallel {display: flex;align-items: stretch;justify-content: center;background-color: white;position: relative;}#sk-container-id-2 div.sk-item::before, #sk-container-id-2 div.sk-parallel-item::before {content: \"\";position: absolute;border-left: 1px solid gray;box-sizing: border-box;top: 0;bottom: 0;left: 50%;z-index: -1;}#sk-container-id-2 div.sk-parallel-item {display: flex;flex-direction: column;z-index: 1;position: relative;background-color: white;}#sk-container-id-2 div.sk-parallel-item:first-child::after {align-self: flex-end;width: 50%;}#sk-container-id-2 div.sk-parallel-item:last-child::after {align-self: flex-start;width: 50%;}#sk-container-id-2 div.sk-parallel-item:only-child::after {width: 0;}#sk-container-id-2 div.sk-dashed-wrapped {border: 1px dashed gray;margin: 0 0.4em 0.5em 0.4em;box-sizing: border-box;padding-bottom: 0.4em;background-color: white;}#sk-container-id-2 div.sk-label label {font-family: monospace;font-weight: bold;display: inline-block;line-height: 1.2em;}#sk-container-id-2 div.sk-label-container {text-align: center;}#sk-container-id-2 div.sk-container {/* jupyter's `normalize.less` sets `[hidden] { display: none; }` but bootstrap.min.css set `[hidden] { display: none !important; }` so we also need the `!important` here to be able to override the default hidden behavior on the sphinx rendered scikit-learn.org. See: https://github.com/scikit-learn/scikit-learn/issues/21755 */display: inline-block !important;position: relative;}#sk-container-id-2 div.sk-text-repr-fallback {display: none;}</style><div id=\"sk-container-id-2\" class=\"sk-top-container\"><div class=\"sk-text-repr-fallback\"><pre>PCA(n_components=2)</pre><b>In a Jupyter environment, please rerun this cell to show the HTML representation or trust the notebook. <br />On GitHub, the HTML representation is unable to render, please try loading this page with nbviewer.org.</b></div><div class=\"sk-container\" hidden><div class=\"sk-item\"><div class=\"sk-estimator sk-toggleable\"><input class=\"sk-toggleable__control sk-hidden--visually\" id=\"sk-estimator-id-2\" type=\"checkbox\" checked><label for=\"sk-estimator-id-2\" class=\"sk-toggleable__label sk-toggleable__label-arrow\">PCA</label><div class=\"sk-toggleable__content\"><pre>PCA(n_components=2)</pre></div></div></div></div></div>"
      ],
      "text/plain": [
       "PCA(n_components=2)"
      ]
     },
     "execution_count": 15,
     "metadata": {},
     "output_type": "execute_result"
    }
   ],
   "source": [
    "from sklearn.decomposition import PCA\n",
    "pca = PCA(n_components=2)\n",
    "pca.fit(scaled_data)"
   ]
  },
  {
   "cell_type": "code",
   "execution_count": 16,
   "id": "96b96260",
   "metadata": {},
   "outputs": [],
   "source": [
    "x_pca = pca.transform(scaled_data)"
   ]
  },
  {
   "cell_type": "code",
   "execution_count": 17,
   "id": "f77ea79a",
   "metadata": {},
   "outputs": [
    {
     "data": {
      "text/plain": [
       "array([[ 4.23918606, -1.24819997],\n",
       "       [ 2.04965792,  7.3150299 ],\n",
       "       [ 4.61279734, -1.3266587 ],\n",
       "       [ 4.55025169, -1.96251483],\n",
       "       [-0.26689165, -0.7116505 ],\n",
       "       [ 0.41701388, -0.97779169],\n",
       "       [ 0.8138469 ,  0.59339329],\n",
       "       [ 0.86566741,  0.55630396],\n",
       "       [ 0.7119313 ,  1.00354735],\n",
       "       [ 1.18227002,  0.00823833],\n",
       "       [-0.04154697,  0.54479145],\n",
       "       [-0.19393887, -0.02652137],\n",
       "       [-1.21068278, -0.7464651 ],\n",
       "       [ 1.32010918,  0.86959991],\n",
       "       [-0.01633588, -0.98122975],\n",
       "       [-0.30378024,  0.40047245],\n",
       "       [-0.25796453, -0.57986685],\n",
       "       [ 0.66601196, -0.06231083],\n",
       "       [ 0.31481794, -1.33470286],\n",
       "       [-1.61627294,  0.35526324],\n",
       "       [-0.58528335,  0.69721663],\n",
       "       [ 0.46211657, -0.040708  ],\n",
       "       [-3.47111948,  0.03710517],\n",
       "       [-0.10031359, -0.11042415],\n",
       "       [ 1.88637381, -0.94207349],\n",
       "       [-0.03784824, -0.45094425],\n",
       "       [-2.10482941, -0.56802833],\n",
       "       [-2.01830746,  1.08716519],\n",
       "       [-1.54542871,  0.36903075],\n",
       "       [-3.57386374, -0.05789102],\n",
       "       [-1.25245721,  0.26614233],\n",
       "       [-1.24725367,  0.27536026],\n",
       "       [-0.89899297, -0.1467385 ],\n",
       "       [-3.34894028, -2.10393999]])"
      ]
     },
     "execution_count": 17,
     "metadata": {},
     "output_type": "execute_result"
    }
   ],
   "source": [
    "x_pca.shape\n",
    "x_pca"
   ]
  },
  {
   "cell_type": "code",
   "execution_count": 18,
   "id": "f2695563",
   "metadata": {},
   "outputs": [
    {
     "name": "stderr",
     "output_type": "stream",
     "text": [
      "C:\\Users\\KEMENKEU\\AppData\\Local\\Temp\\ipykernel_25452\\1184219822.py:2: UserWarning: No data for colormapping provided via 'c'. Parameters 'cmap' will be ignored\n",
      "  plt.scatter(x_pca[:,0],x_pca[:,1],cmap='greens')\n"
     ]
    },
    {
     "data": {
      "text/plain": [
       "Text(0, 0.5, 'Second Principal Component')"
      ]
     },
     "execution_count": 18,
     "metadata": {},
     "output_type": "execute_result"
    },
    {
     "data": {
      "image/png": "[encoded data removed]",
      "text/plain": [
       "<Figure size 576x432 with 1 Axes>"
      ]
     },
     "metadata": {},
     "output_type": "display_data"
    }
   ],
   "source": [
    "plt.figure(figsize=(8,6))\n",
    "plt.scatter(x_pca[:,0],x_pca[:,1],cmap='greens')\n",
    "plt.xlabel('First principal component')\n",
    "plt.ylabel('Second Principal Component')"
   ]
  },
  {
   "cell_type": "code",
   "execution_count": 19,
   "id": "60ee6e2f",
   "metadata": {},
   "outputs": [
    {
     "data": {
      "text/plain": [
       "array([[ 0.3800134 ,  0.42536562,  0.432219  ,  0.35052483,  0.17197901,\n",
       "        -0.02371652, -0.34263671,  0.21938261,  0.35212636,  0.12621784,\n",
       "        -0.1005961 ,  0.02467535, -0.13657498],\n",
       "       [ 0.12254243, -0.22072724, -0.22718365,  0.29445536,  0.20656726,\n",
       "         0.28797659, -0.08201788, -0.43785442,  0.14379855,  0.57310974,\n",
       "         0.32197972, -0.13938637,  0.04086807]])"
      ]
     },
     "execution_count": 19,
     "metadata": {},
     "output_type": "execute_result"
    }
   ],
   "source": [
    "pca.components_"
   ]
  },
  {
   "cell_type": "code",
   "execution_count": 20,
   "id": "bedf3004",
   "metadata": {},
   "outputs": [],
   "source": [
    "df_comp = pd.DataFrame(pca.components_,columns=df.columns)"
   ]
  },
  {
   "cell_type": "code",
   "execution_count": 21,
   "id": "5180b10d",
   "metadata": {},
   "outputs": [
    {
     "data": {
      "text/plain": [
       "<AxesSubplot: >"
      ]
     },
     "execution_count": 21,
     "metadata": {},
     "output_type": "execute_result"
    },
    {
     "data": {
      "image/png": "[encoded data removed]",
      "text/plain": [
       "<Figure size 864x432 with 2 Axes>"
      ]
     },
     "metadata": {},
     "output_type": "display_data"
    }
   ],
   "source": [
    "plt.figure(figsize=(12,6))\n",
    "sns.heatmap(df_comp,cmap='Greens', annot=True)"
   ]
  },
  {
   "cell_type": "code",
   "execution_count": 22,
   "id": "9e4b79ef",
   "metadata": {},
   "outputs": [
    {
     "data": {
      "text/plain": [
       "array([[ 4.23918606, -1.24819997],\n",
       "       [ 2.04965792,  7.3150299 ],\n",
       "       [ 4.61279734, -1.3266587 ],\n",
       "       [ 4.55025169, -1.96251483],\n",
       "       [-0.26689165, -0.7116505 ],\n",
       "       [ 0.41701388, -0.97779169],\n",
       "       [ 0.8138469 ,  0.59339329],\n",
       "       [ 0.86566741,  0.55630396],\n",
       "       [ 0.7119313 ,  1.00354735],\n",
       "       [ 1.18227002,  0.00823833],\n",
       "       [-0.04154697,  0.54479145],\n",
       "       [-0.19393887, -0.02652137],\n",
       "       [-1.21068278, -0.7464651 ],\n",
       "       [ 1.32010918,  0.86959991],\n",
       "       [-0.01633588, -0.98122975],\n",
       "       [-0.30378024,  0.40047245],\n",
       "       [-0.25796453, -0.57986685],\n",
       "       [ 0.66601196, -0.06231083],\n",
       "       [ 0.31481794, -1.33470286],\n",
       "       [-1.61627294,  0.35526324],\n",
       "       [-0.58528335,  0.69721663],\n",
       "       [ 0.46211657, -0.040708  ],\n",
       "       [-3.47111948,  0.03710517],\n",
       "       [-0.10031359, -0.11042415],\n",
       "       [ 1.88637381, -0.94207349],\n",
       "       [-0.03784824, -0.45094425],\n",
       "       [-2.10482941, -0.56802833],\n",
       "       [-2.01830746,  1.08716519],\n",
       "       [-1.54542871,  0.36903075],\n",
       "       [-3.57386374, -0.05789102],\n",
       "       [-1.25245721,  0.26614233],\n",
       "       [-1.24725367,  0.27536026],\n",
       "       [-0.89899297, -0.1467385 ],\n",
       "       [-3.34894028, -2.10393999]])"
      ]
     },
     "execution_count": 22,
     "metadata": {},
     "output_type": "execute_result"
    }
   ],
   "source": [
    "x_pca"
   ]
  },
  {
   "cell_type": "code",
   "execution_count": 73,
   "id": "3b1b9001",
   "metadata": {},
   "outputs": [
    {
     "data": {
      "application/vnd.plotly.v1+json": {
       "config": {
        "plotlyServerURL": "https://plot.ly"
       },
       "data": [
        {
         "hovertemplate": "x=%{x}<br>y=%{y}<extra></extra>",
         "legendgroup": "",
         "line": {
          "color": "#636efa",
          "dash": "solid"
         },
         "marker": {
          "symbol": "circle"
         },
         "mode": "lines+markers",
         "name": "",
         "orientation": "v",
         "showlegend": false,
         "type": "scatter",
         "x": [
          1,
          2,
          3,
          4,
          5,
          6,
          7,
          8,
          9,
          10
         ],
         "xaxis": "x",
         "y": [
          205.88851230524864,
          131.1548401818424,
          71.7540402127098,
          33.55823181034426,
          24.694597025350113,
          16.176926968796305,
          12.847162047963073,
          9.90512245701517,
          7.364584028090251,
          5.710842550959438
         ],
         "yaxis": "y"
        }
       ],
       "layout": {
        "legend": {
         "tracegroupgap": 0
        },
        "margin": {
         "t": 60
        },
        "template": {
         "data": {
          "bar": [
           {
            "error_x": {
             "color": "#2a3f5f"
            },
            "error_y": {
             "color": "#2a3f5f"
            },
            "marker": {
             "line": {
              "color": "#E5ECF6",
              "width": 0.5
             },
             "pattern": {
              "fillmode": "overlay",
              "size": 10,
              "solidity": 0.2
             }
            },
            "type": "bar"
           }
          ],
          "barpolar": [
           {
            "marker": {
             "line": {
              "color": "#E5ECF6",
              "width": 0.5
             },
             "pattern": {
              "fillmode": "overlay",
              "size": 10,
              "solidity": 0.2
             }
            },
            "type": "barpolar"
           }
          ],
          "carpet": [
           {
            "aaxis": {
             "endlinecolor": "#2a3f5f",
             "gridcolor": "white",
             "linecolor": "white",
             "minorgridcolor": "white",
             "startlinecolor": "#2a3f5f"
            },
            "baxis": {
             "endlinecolor": "#2a3f5f",
             "gridcolor": "white",
             "linecolor": "white",
             "minorgridcolor": "white",
             "startlinecolor": "#2a3f5f"
            },
            "type": "carpet"
           }
          ],
          "choropleth": [
           {
            "colorbar": {
             "outlinewidth": 0,
             "ticks": ""
            },
            "type": "choropleth"
           }
          ],
          "contour": [
           {
            "colorbar": {
             "outlinewidth": 0,
             "ticks": ""
            },
            "colorscale": [
             [
              0,
              "#0d0887"
             ],
             [
              0.1111111111111111,
              "#46039f"
             ],
             [
              0.2222222222222222,
              "#7201a8"
             ],
             [
              0.3333333333333333,
              "#9c179e"
             ],
             [
              0.4444444444444444,
              "#bd3786"
             ],
             [
              0.5555555555555556,
              "#d8576b"
             ],
             [
              0.6666666666666666,
              "#ed7953"
             ],
             [
              0.7777777777777778,
              "#fb9f3a"
             ],
             [
              0.8888888888888888,
              "#fdca26"
             ],
             [
              1,
              "#f0f921"
             ]
            ],
            "type": "contour"
           }
          ],
          "contourcarpet": [
           {
            "colorbar": {
             "outlinewidth": 0,
             "ticks": ""
            },
            "type": "contourcarpet"
           }
          ],
          "heatmap": [
           {
            "colorbar": {
             "outlinewidth": 0,
             "ticks": ""
            },
            "colorscale": [
             [
              0,
              "#0d0887"
             ],
             [
              0.1111111111111111,
              "#46039f"
             ],
             [
              0.2222222222222222,
              "#7201a8"
             ],
             [
              0.3333333333333333,
              "#9c179e"
             ],
             [
              0.4444444444444444,
              "#bd3786"
             ],
             [
              0.5555555555555556,
              "#d8576b"
             ],
             [
              0.6666666666666666,
              "#ed7953"
             ],
             [
              0.7777777777777778,
              "#fb9f3a"
             ],
             [
              0.8888888888888888,
              "#fdca26"
             ],
             [
              1,
              "#f0f921"
             ]
            ],
            "type": "heatmap"
           }
          ],
          "heatmapgl": [
           {
            "colorbar": {
             "outlinewidth": 0,
             "ticks": ""
            },
            "colorscale": [
             [
              0,
              "#0d0887"
             ],
             [
              0.1111111111111111,
              "#46039f"
             ],
             [
              0.2222222222222222,
              "#7201a8"
             ],
             [
              0.3333333333333333,
              "#9c179e"
             ],
             [
              0.4444444444444444,
              "#bd3786"
             ],
             [
              0.5555555555555556,
              "#d8576b"
             ],
             [
              0.6666666666666666,
              "#ed7953"
             ],
             [
              0.7777777777777778,
              "#fb9f3a"
             ],
             [
              0.8888888888888888,
              "#fdca26"
             ],
             [
              1,
              "#f0f921"
             ]
            ],
            "type": "heatmapgl"
           }
          ],
          "histogram": [
           {
            "marker": {
             "pattern": {
              "fillmode": "overlay",
              "size": 10,
              "solidity": 0.2
             }
            },
            "type": "histogram"
           }
          ],
          "histogram2d": [
           {
            "colorbar": {
             "outlinewidth": 0,
             "ticks": ""
            },
            "colorscale": [
             [
              0,
              "#0d0887"
             ],
             [
              0.1111111111111111,
              "#46039f"
             ],
             [
              0.2222222222222222,
              "#7201a8"
             ],
             [
              0.3333333333333333,
              "#9c179e"
             ],
             [
              0.4444444444444444,
              "#bd3786"
             ],
             [
              0.5555555555555556,
              "#d8576b"
             ],
             [
              0.6666666666666666,
              "#ed7953"
             ],
             [
              0.7777777777777778,
              "#fb9f3a"
             ],
             [
              0.8888888888888888,
              "#fdca26"
             ],
             [
              1,
              "#f0f921"
             ]
            ],
            "type": "histogram2d"
           }
          ],
          "histogram2dcontour": [
           {
            "colorbar": {
             "outlinewidth": 0,
             "ticks": ""
            },
            "colorscale": [
             [
              0,
              "#0d0887"
             ],
             [
              0.1111111111111111,
              "#46039f"
             ],
             [
              0.2222222222222222,
              "#7201a8"
             ],
             [
              0.3333333333333333,
              "#9c179e"
             ],
             [
              0.4444444444444444,
              "#bd3786"
             ],
             [
              0.5555555555555556,
              "#d8576b"
             ],
             [
              0.6666666666666666,
              "#ed7953"
             ],
             [
              0.7777777777777778,
              "#fb9f3a"
             ],
             [
              0.8888888888888888,
              "#fdca26"
             ],
             [
              1,
              "#f0f921"
             ]
            ],
            "type": "histogram2dcontour"
           }
          ],
          "mesh3d": [
           {
            "colorbar": {
             "outlinewidth": 0,
             "ticks": ""
            },
            "type": "mesh3d"
           }
          ],
          "parcoords": [
           {
            "line": {
             "colorbar": {
              "outlinewidth": 0,
              "ticks": ""
             }
            },
            "type": "parcoords"
           }
          ],
          "pie": [
           {
            "automargin": true,
            "type": "pie"
           }
          ],
          "scatter": [
           {
            "fillpattern": {
             "fillmode": "overlay",
             "size": 10,
             "solidity": 0.2
            },
            "type": "scatter"
           }
          ],
          "scatter3d": [
           {
            "line": {
             "colorbar": {
              "outlinewidth": 0,
              "ticks": ""
             }
            },
            "marker": {
             "colorbar": {
              "outlinewidth": 0,
              "ticks": ""
             }
            },
            "type": "scatter3d"
           }
          ],
          "scattercarpet": [
           {
            "marker": {
             "colorbar": {
              "outlinewidth": 0,
              "ticks": ""
             }
            },
            "type": "scattercarpet"
           }
          ],
          "scattergeo": [
           {
            "marker": {
             "colorbar": {
              "outlinewidth": 0,
              "ticks": ""
             }
            },
            "type": "scattergeo"
           }
          ],
          "scattergl": [
           {
            "marker": {
             "colorbar": {
              "outlinewidth": 0,
              "ticks": ""
             }
            },
            "type": "scattergl"
           }
          ],
          "scattermapbox": [
           {
            "marker": {
             "colorbar": {
              "outlinewidth": 0,
              "ticks": ""
             }
            },
            "type": "scattermapbox"
           }
          ],
          "scatterpolar": [
           {
            "marker": {
             "colorbar": {
              "outlinewidth": 0,
              "ticks": ""
             }
            },
            "type": "scatterpolar"
           }
          ],
          "scatterpolargl": [
           {
            "marker": {
             "colorbar": {
              "outlinewidth": 0,
              "ticks": ""
             }
            },
            "type": "scatterpolargl"
           }
          ],
          "scatterternary": [
           {
            "marker": {
             "colorbar": {
              "outlinewidth": 0,
              "ticks": ""
             }
            },
            "type": "scatterternary"
           }
          ],
          "surface": [
           {
            "colorbar": {
             "outlinewidth": 0,
             "ticks": ""
            },
            "colorscale": [
             [
              0,
              "#0d0887"
             ],
             [
              0.1111111111111111,
              "#46039f"
             ],
             [
              0.2222222222222222,
              "#7201a8"
             ],
             [
              0.3333333333333333,
              "#9c179e"
             ],
             [
              0.4444444444444444,
              "#bd3786"
             ],
             [
              0.5555555555555556,
              "#d8576b"
             ],
             [
              0.6666666666666666,
              "#ed7953"
             ],
             [
              0.7777777777777778,
              "#fb9f3a"
             ],
             [
              0.8888888888888888,
              "#fdca26"
             ],
             [
              1,
              "#f0f921"
             ]
            ],
            "type": "surface"
           }
          ],
          "table": [
           {
            "cells": {
             "fill": {
              "color": "#EBF0F8"
             },
             "line": {
              "color": "white"
             }
            },
            "header": {
             "fill": {
              "color": "#C8D4E3"
             },
             "line": {
              "color": "white"
             }
            },
            "type": "table"
           }
          ]
         },
         "layout": {
          "annotationdefaults": {
           "arrowcolor": "#2a3f5f",
           "arrowhead": 0,
           "arrowwidth": 1
          },
          "autotypenumbers": "strict",
          "coloraxis": {
           "colorbar": {
            "outlinewidth": 0,
            "ticks": ""
           }
          },
          "colorscale": {
           "diverging": [
            [
             0,
             "#8e0152"
            ],
            [
             0.1,
             "#c51b7d"
            ],
            [
             0.2,
             "#de77ae"
            ],
            [
             0.3,
             "#f1b6da"
            ],
            [
             0.4,
             "#fde0ef"
            ],
            [
             0.5,
             "#f7f7f7"
            ],
            [
             0.6,
             "#e6f5d0"
            ],
            [
             0.7,
             "#b8e186"
            ],
            [
             0.8,
             "#7fbc41"
            ],
            [
             0.9,
             "#4d9221"
            ],
            [
             1,
             "#276419"
            ]
           ],
           "sequential": [
            [
             0,
             "#0d0887"
            ],
            [
             0.1111111111111111,
             "#46039f"
            ],
            [
             0.2222222222222222,
             "#7201a8"
            ],
            [
             0.3333333333333333,
             "#9c179e"
            ],
            [
             0.4444444444444444,
             "#bd3786"
            ],
            [
             0.5555555555555556,
             "#d8576b"
            ],
            [
             0.6666666666666666,
             "#ed7953"
            ],
            [
             0.7777777777777778,
             "#fb9f3a"
            ],
            [
             0.8888888888888888,
             "#fdca26"
            ],
            [
             1,
             "#f0f921"
            ]
           ],
           "sequentialminus": [
            [
             0,
             "#0d0887"
            ],
            [
             0.1111111111111111,
             "#46039f"
            ],
            [
             0.2222222222222222,
             "#7201a8"
            ],
            [
             0.3333333333333333,
             "#9c179e"
            ],
            [
             0.4444444444444444,
             "#bd3786"
            ],
            [
             0.5555555555555556,
             "#d8576b"
            ],
            [
             0.6666666666666666,
             "#ed7953"
            ],
            [
             0.7777777777777778,
             "#fb9f3a"
            ],
            [
             0.8888888888888888,
             "#fdca26"
            ],
            [
             1,
             "#f0f921"
            ]
           ]
          },
          "colorway": [
           "#636efa",
           "#EF553B",
           "#00cc96",
           "#ab63fa",
           "#FFA15A",
           "#19d3f3",
           "#FF6692",
           "#B6E880",
           "#FF97FF",
           "#FECB52"
          ],
          "font": {
           "color": "#2a3f5f"
          },
          "geo": {
           "bgcolor": "white",
           "lakecolor": "white",
           "landcolor": "#E5ECF6",
           "showlakes": true,
           "showland": true,
           "subunitcolor": "white"
          },
          "hoverlabel": {
           "align": "left"
          },
          "hovermode": "closest",
          "mapbox": {
           "style": "light"
          },
          "paper_bgcolor": "white",
          "plot_bgcolor": "#E5ECF6",
          "polar": {
           "angularaxis": {
            "gridcolor": "white",
            "linecolor": "white",
            "ticks": ""
           },
           "bgcolor": "#E5ECF6",
           "radialaxis": {
            "gridcolor": "white",
            "linecolor": "white",
            "ticks": ""
           }
          },
          "scene": {
           "xaxis": {
            "backgroundcolor": "#E5ECF6",
            "gridcolor": "white",
            "gridwidth": 2,
            "linecolor": "white",
            "showbackground": true,
            "ticks": "",
            "zerolinecolor": "white"
           },
           "yaxis": {
            "backgroundcolor": "#E5ECF6",
            "gridcolor": "white",
            "gridwidth": 2,
            "linecolor": "white",
            "showbackground": true,
            "ticks": "",
            "zerolinecolor": "white"
           },
           "zaxis": {
            "backgroundcolor": "#E5ECF6",
            "gridcolor": "white",
            "gridwidth": 2,
            "linecolor": "white",
            "showbackground": true,
            "ticks": "",
            "zerolinecolor": "white"
           }
          },
          "shapedefaults": {
           "line": {
            "color": "#2a3f5f"
           }
          },
          "ternary": {
           "aaxis": {
            "gridcolor": "white",
            "linecolor": "white",
            "ticks": ""
           },
           "baxis": {
            "gridcolor": "white",
            "linecolor": "white",
            "ticks": ""
           },
           "bgcolor": "#E5ECF6",
           "caxis": {
            "gridcolor": "white",
            "linecolor": "white",
            "ticks": ""
           }
          },
          "title": {
           "x": 0.05
          },
          "xaxis": {
           "automargin": true,
           "gridcolor": "white",
           "linecolor": "white",
           "ticks": "",
           "title": {
            "standoff": 15
           },
           "zerolinecolor": "white",
           "zerolinewidth": 2
          },
          "yaxis": {
           "automargin": true,
           "gridcolor": "white",
           "linecolor": "white",
           "ticks": "",
           "title": {
            "standoff": 15
           },
           "zerolinecolor": "white",
           "zerolinewidth": 2
          }
         }
        },
        "xaxis": {
         "anchor": "y",
         "domain": [
          0,
          1
         ],
         "title": {
          "text": "x"
         }
        },
        "yaxis": {
         "anchor": "x",
         "domain": [
          0,
          1
         ],
         "title": {
          "text": "y"
         }
        }
       }
      }
     },
     "metadata": {},
     "output_type": "display_data"
    }
   ],
   "source": [
    "from sklearn.cluster import KMeans\n",
    "import plotly.express as px # (visualisasi)\n",
    "\n",
    "data = x_pca\n",
    "inertias = []\n",
    "\n",
    "for i in range(1,11):\n",
    "    kmeans = KMeans(n_clusters=i)\n",
    "    kmeans.fit(data)\n",
    "    inertias.append(kmeans.inertia_)\n",
    "\n",
    "fig = px.line(x=range(1,11), y=inertias, markers=True)\n",
    "fig.show()\n",
    "# mulai bertekuk ada di 4"
   ]
  },
  {
   "cell_type": "code",
   "execution_count": 74,
   "id": "ba0f9da1-773d-407f-935a-165279cbe279",
   "metadata": {},
   "outputs": [
    {
     "data": {
      "application/vnd.plotly.v1+json": {
       "config": {
        "plotlyServerURL": "https://plot.ly"
       },
       "data": [
        {
         "hovertemplate": "0=%{x}<br>1=%{y}<br>color=%{marker.color}<extra></extra>",
         "legendgroup": "",
         "marker": {
          "color": [
           1,
           3,
           1,
           1,
           2,
           2,
           2,
           2,
           2,
           2,
           2,
           2,
           0,
           2,
           2,
           2,
           2,
           2,
           2,
           0,
           2,
           2,
           0,
           2,
           2,
           2,
           0,
           0,
           0,
           0,
           0,
           0,
           0,
           0
          ],
          "coloraxis": "coloraxis",
          "symbol": "circle"
         },
         "mode": "markers",
         "name": "",
         "orientation": "v",
         "showlegend": false,
         "type": "scatter",
         "x": [
          4.23918605949184,
          2.049657921027837,
          4.6127973436006595,
          4.550251692653598,
          -0.2668916538630018,
          0.41701387720902844,
          0.8138468963531548,
          0.8656674060039437,
          0.7119313047609584,
          1.1822700204135037,
          -0.0415469652980351,
          -0.1939388695587317,
          -1.21068278065349,
          1.3201091822927842,
          -0.016335876766069655,
          -0.30378024113271734,
          -0.25796453384831747,
          0.6660119551563581,
          0.31481794074069147,
          -1.6162729377844554,
          -0.5852833540834584,
          0.46211657319002303,
          -3.4711194839253663,
          -0.1003135908957711,
          1.8863738097683564,
          -0.03784824329346627,
          -2.104829413408817,
          -2.0183074593500865,
          -1.5454287053383144,
          -3.5738637384013994,
          -1.2524572143812072,
          -1.2472536713521885,
          -0.8989929741523318,
          -3.348940275175511
         ],
         "xaxis": "x",
         "y": [
          -1.2481999743732062,
          7.31502990452398,
          -1.3266587021524026,
          -1.9625148308446267,
          -0.7116504970941234,
          -0.9777916892821302,
          0.5933932910750257,
          0.5563039594558309,
          1.0035473503956907,
          0.008238331101174425,
          0.5447914492911327,
          -0.026521370162260763,
          -0.7464651038559214,
          0.869599907189296,
          -0.9812297548562041,
          0.40047245076584165,
          -0.5798668476570026,
          -0.06231082911193148,
          -1.3347028647357981,
          0.3552632358510038,
          0.6972166299551448,
          -0.040708001363564505,
          0.037105167889181424,
          -0.11042414723826839,
          -0.9420734853696461,
          -0.45094425216108863,
          -0.5680283329099055,
          1.0871651897032908,
          0.3690307499854491,
          -0.05789102351442288,
          0.2661423251019487,
          0.2753602605843989,
          -0.146738501742406,
          -2.103939994443481
         ],
         "yaxis": "y"
        }
       ],
       "layout": {
        "coloraxis": {
         "colorbar": {
          "title": {
           "text": "color"
          }
         },
         "colorscale": [
          [
           0,
           "#0d0887"
          ],
          [
           0.1111111111111111,
           "#46039f"
          ],
          [
           0.2222222222222222,
           "#7201a8"
          ],
          [
           0.3333333333333333,
           "#9c179e"
          ],
          [
           0.4444444444444444,
           "#bd3786"
          ],
          [
           0.5555555555555556,
           "#d8576b"
          ],
          [
           0.6666666666666666,
           "#ed7953"
          ],
          [
           0.7777777777777778,
           "#fb9f3a"
          ],
          [
           0.8888888888888888,
           "#fdca26"
          ],
          [
           1,
           "#f0f921"
          ]
         ]
        },
        "legend": {
         "tracegroupgap": 0
        },
        "margin": {
         "t": 60
        },
        "template": {
         "data": {
          "bar": [
           {
            "error_x": {
             "color": "#2a3f5f"
            },
            "error_y": {
             "color": "#2a3f5f"
            },
            "marker": {
             "line": {
              "color": "#E5ECF6",
              "width": 0.5
             },
             "pattern": {
              "fillmode": "overlay",
              "size": 10,
              "solidity": 0.2
             }
            },
            "type": "bar"
           }
          ],
          "barpolar": [
           {
            "marker": {
             "line": {
              "color": "#E5ECF6",
              "width": 0.5
             },
             "pattern": {
              "fillmode": "overlay",
              "size": 10,
              "solidity": 0.2
             }
            },
            "type": "barpolar"
           }
          ],
          "carpet": [
           {
            "aaxis": {
             "endlinecolor": "#2a3f5f",
             "gridcolor": "white",
             "linecolor": "white",
             "minorgridcolor": "white",
             "startlinecolor": "#2a3f5f"
            },
            "baxis": {
             "endlinecolor": "#2a3f5f",
             "gridcolor": "white",
             "linecolor": "white",
             "minorgridcolor": "white",
             "startlinecolor": "#2a3f5f"
            },
            "type": "carpet"
           }
          ],
          "choropleth": [
           {
            "colorbar": {
             "outlinewidth": 0,
             "ticks": ""
            },
            "type": "choropleth"
           }
          ],
          "contour": [
           {
            "colorbar": {
             "outlinewidth": 0,
             "ticks": ""
            },
            "colorscale": [
             [
              0,
              "#0d0887"
             ],
             [
              0.1111111111111111,
              "#46039f"
             ],
             [
              0.2222222222222222,
              "#7201a8"
             ],
             [
              0.3333333333333333,
              "#9c179e"
             ],
             [
              0.4444444444444444,
              "#bd3786"
             ],
             [
              0.5555555555555556,
              "#d8576b"
             ],
             [
              0.6666666666666666,
              "#ed7953"
             ],
             [
              0.7777777777777778,
              "#fb9f3a"
             ],
             [
              0.8888888888888888,
              "#fdca26"
             ],
             [
              1,
              "#f0f921"
             ]
            ],
            "type": "contour"
           }
          ],
          "contourcarpet": [
           {
            "colorbar": {
             "outlinewidth": 0,
             "ticks": ""
            },
            "type": "contourcarpet"
           }
          ],
          "heatmap": [
           {
            "colorbar": {
             "outlinewidth": 0,
             "ticks": ""
            },
            "colorscale": [
             [
              0,
              "#0d0887"
             ],
             [
              0.1111111111111111,
              "#46039f"
             ],
             [
              0.2222222222222222,
              "#7201a8"
             ],
             [
              0.3333333333333333,
              "#9c179e"
             ],
             [
              0.4444444444444444,
              "#bd3786"
             ],
             [
              0.5555555555555556,
              "#d8576b"
             ],
             [
              0.6666666666666666,
              "#ed7953"
             ],
             [
              0.7777777777777778,
              "#fb9f3a"
             ],
             [
              0.8888888888888888,
              "#fdca26"
             ],
             [
              1,
              "#f0f921"
             ]
            ],
            "type": "heatmap"
           }
          ],
          "heatmapgl": [
           {
            "colorbar": {
             "outlinewidth": 0,
             "ticks": ""
            },
            "colorscale": [
             [
              0,
              "#0d0887"
             ],
             [
              0.1111111111111111,
              "#46039f"
             ],
             [
              0.2222222222222222,
              "#7201a8"
             ],
             [
              0.3333333333333333,
              "#9c179e"
             ],
             [
              0.4444444444444444,
              "#bd3786"
             ],
             [
              0.5555555555555556,
              "#d8576b"
             ],
             [
              0.6666666666666666,
              "#ed7953"
             ],
             [
              0.7777777777777778,
              "#fb9f3a"
             ],
             [
              0.8888888888888888,
              "#fdca26"
             ],
             [
              1,
              "#f0f921"
             ]
            ],
            "type": "heatmapgl"
           }
          ],
          "histogram": [
           {
            "marker": {
             "pattern": {
              "fillmode": "overlay",
              "size": 10,
              "solidity": 0.2
             }
            },
            "type": "histogram"
           }
          ],
          "histogram2d": [
           {
            "colorbar": {
             "outlinewidth": 0,
             "ticks": ""
            },
            "colorscale": [
             [
              0,
              "#0d0887"
             ],
             [
              0.1111111111111111,
              "#46039f"
             ],
             [
              0.2222222222222222,
              "#7201a8"
             ],
             [
              0.3333333333333333,
              "#9c179e"
             ],
             [
              0.4444444444444444,
              "#bd3786"
             ],
             [
              0.5555555555555556,
              "#d8576b"
             ],
             [
              0.6666666666666666,
              "#ed7953"
             ],
             [
              0.7777777777777778,
              "#fb9f3a"
             ],
             [
              0.8888888888888888,
              "#fdca26"
             ],
             [
              1,
              "#f0f921"
             ]
            ],
            "type": "histogram2d"
           }
          ],
          "histogram2dcontour": [
           {
            "colorbar": {
             "outlinewidth": 0,
             "ticks": ""
            },
            "colorscale": [
             [
              0,
              "#0d0887"
             ],
             [
              0.1111111111111111,
              "#46039f"
             ],
             [
              0.2222222222222222,
              "#7201a8"
             ],
             [
              0.3333333333333333,
              "#9c179e"
             ],
             [
              0.4444444444444444,
              "#bd3786"
             ],
             [
              0.5555555555555556,
              "#d8576b"
             ],
             [
              0.6666666666666666,
              "#ed7953"
             ],
             [
              0.7777777777777778,
              "#fb9f3a"
             ],
             [
              0.8888888888888888,
              "#fdca26"
             ],
             [
              1,
              "#f0f921"
             ]
            ],
            "type": "histogram2dcontour"
           }
          ],
          "mesh3d": [
           {
            "colorbar": {
             "outlinewidth": 0,
             "ticks": ""
            },
            "type": "mesh3d"
           }
          ],
          "parcoords": [
           {
            "line": {
             "colorbar": {
              "outlinewidth": 0,
              "ticks": ""
             }
            },
            "type": "parcoords"
           }
          ],
          "pie": [
           {
            "automargin": true,
            "type": "pie"
           }
          ],
          "scatter": [
           {
            "fillpattern": {
             "fillmode": "overlay",
             "size": 10,
             "solidity": 0.2
            },
            "type": "scatter"
           }
          ],
          "scatter3d": [
           {
            "line": {
             "colorbar": {
              "outlinewidth": 0,
              "ticks": ""
             }
            },
            "marker": {
             "colorbar": {
              "outlinewidth": 0,
              "ticks": ""
             }
            },
            "type": "scatter3d"
           }
          ],
          "scattercarpet": [
           {
            "marker": {
             "colorbar": {
              "outlinewidth": 0,
              "ticks": ""
             }
            },
            "type": "scattercarpet"
           }
          ],
          "scattergeo": [
           {
            "marker": {
             "colorbar": {
              "outlinewidth": 0,
              "ticks": ""
             }
            },
            "type": "scattergeo"
           }
          ],
          "scattergl": [
           {
            "marker": {
             "colorbar": {
              "outlinewidth": 0,
              "ticks": ""
             }
            },
            "type": "scattergl"
           }
          ],
          "scattermapbox": [
           {
            "marker": {
             "colorbar": {
              "outlinewidth": 0,
              "ticks": ""
             }
            },
            "type": "scattermapbox"
           }
          ],
          "scatterpolar": [
           {
            "marker": {
             "colorbar": {
              "outlinewidth": 0,
              "ticks": ""
             }
            },
            "type": "scatterpolar"
           }
          ],
          "scatterpolargl": [
           {
            "marker": {
             "colorbar": {
              "outlinewidth": 0,
              "ticks": ""
             }
            },
            "type": "scatterpolargl"
           }
          ],
          "scatterternary": [
           {
            "marker": {
             "colorbar": {
              "outlinewidth": 0,
              "ticks": ""
             }
            },
            "type": "scatterternary"
           }
          ],
          "surface": [
           {
            "colorbar": {
             "outlinewidth": 0,
             "ticks": ""
            },
            "colorscale": [
             [
              0,
              "#0d0887"
             ],
             [
              0.1111111111111111,
              "#46039f"
             ],
             [
              0.2222222222222222,
              "#7201a8"
             ],
             [
              0.3333333333333333,
              "#9c179e"
             ],
             [
              0.4444444444444444,
              "#bd3786"
             ],
             [
              0.5555555555555556,
              "#d8576b"
             ],
             [
              0.6666666666666666,
              "#ed7953"
             ],
             [
              0.7777777777777778,
              "#fb9f3a"
             ],
             [
              0.8888888888888888,
              "#fdca26"
             ],
             [
              1,
              "#f0f921"
             ]
            ],
            "type": "surface"
           }
          ],
          "table": [
           {
            "cells": {
             "fill": {
              "color": "#EBF0F8"
             },
             "line": {
              "color": "white"
             }
            },
            "header": {
             "fill": {
              "color": "#C8D4E3"
             },
             "line": {
              "color": "white"
             }
            },
            "type": "table"
           }
          ]
         },
         "layout": {
          "annotationdefaults": {
           "arrowcolor": "#2a3f5f",
           "arrowhead": 0,
           "arrowwidth": 1
          },
          "autotypenumbers": "strict",
          "coloraxis": {
           "colorbar": {
            "outlinewidth": 0,
            "ticks": ""
           }
          },
          "colorscale": {
           "diverging": [
            [
             0,
             "#8e0152"
            ],
            [
             0.1,
             "#c51b7d"
            ],
            [
             0.2,
             "#de77ae"
            ],
            [
             0.3,
             "#f1b6da"
            ],
            [
             0.4,
             "#fde0ef"
            ],
            [
             0.5,
             "#f7f7f7"
            ],
            [
             0.6,
             "#e6f5d0"
            ],
            [
             0.7,
             "#b8e186"
            ],
            [
             0.8,
             "#7fbc41"
            ],
            [
             0.9,
             "#4d9221"
            ],
            [
             1,
             "#276419"
            ]
           ],
           "sequential": [
            [
             0,
             "#0d0887"
            ],
            [
             0.1111111111111111,
             "#46039f"
            ],
            [
             0.2222222222222222,
             "#7201a8"
            ],
            [
             0.3333333333333333,
             "#9c179e"
            ],
            [
             0.4444444444444444,
             "#bd3786"
            ],
            [
             0.5555555555555556,
             "#d8576b"
            ],
            [
             0.6666666666666666,
             "#ed7953"
            ],
            [
             0.7777777777777778,
             "#fb9f3a"
            ],
            [
             0.8888888888888888,
             "#fdca26"
            ],
            [
             1,
             "#f0f921"
            ]
           ],
           "sequentialminus": [
            [
             0,
             "#0d0887"
            ],
            [
             0.1111111111111111,
             "#46039f"
            ],
            [
             0.2222222222222222,
             "#7201a8"
            ],
            [
             0.3333333333333333,
             "#9c179e"
            ],
            [
             0.4444444444444444,
             "#bd3786"
            ],
            [
             0.5555555555555556,
             "#d8576b"
            ],
            [
             0.6666666666666666,
             "#ed7953"
            ],
            [
             0.7777777777777778,
             "#fb9f3a"
            ],
            [
             0.8888888888888888,
             "#fdca26"
            ],
            [
             1,
             "#f0f921"
            ]
           ]
          },
          "colorway": [
           "#636efa",
           "#EF553B",
           "#00cc96",
           "#ab63fa",
           "#FFA15A",
           "#19d3f3",
           "#FF6692",
           "#B6E880",
           "#FF97FF",
           "#FECB52"
          ],
          "font": {
           "color": "#2a3f5f"
          },
          "geo": {
           "bgcolor": "white",
           "lakecolor": "white",
           "landcolor": "#E5ECF6",
           "showlakes": true,
           "showland": true,
           "subunitcolor": "white"
          },
          "hoverlabel": {
           "align": "left"
          },
          "hovermode": "closest",
          "mapbox": {
           "style": "light"
          },
          "paper_bgcolor": "white",
          "plot_bgcolor": "#E5ECF6",
          "polar": {
           "angularaxis": {
            "gridcolor": "white",
            "linecolor": "white",
            "ticks": ""
           },
           "bgcolor": "#E5ECF6",
           "radialaxis": {
            "gridcolor": "white",
            "linecolor": "white",
            "ticks": ""
           }
          },
          "scene": {
           "xaxis": {
            "backgroundcolor": "#E5ECF6",
            "gridcolor": "white",
            "gridwidth": 2,
            "linecolor": "white",
            "showbackground": true,
            "ticks": "",
            "zerolinecolor": "white"
           },
           "yaxis": {
            "backgroundcolor": "#E5ECF6",
            "gridcolor": "white",
            "gridwidth": 2,
            "linecolor": "white",
            "showbackground": true,
            "ticks": "",
            "zerolinecolor": "white"
           },
           "zaxis": {
            "backgroundcolor": "#E5ECF6",
            "gridcolor": "white",
            "gridwidth": 2,
            "linecolor": "white",
            "showbackground": true,
            "ticks": "",
            "zerolinecolor": "white"
           }
          },
          "shapedefaults": {
           "line": {
            "color": "#2a3f5f"
           }
          },
          "ternary": {
           "aaxis": {
            "gridcolor": "white",
            "linecolor": "white",
            "ticks": ""
           },
           "baxis": {
            "gridcolor": "white",
            "linecolor": "white",
            "ticks": ""
           },
           "bgcolor": "#E5ECF6",
           "caxis": {
            "gridcolor": "white",
            "linecolor": "white",
            "ticks": ""
           }
          },
          "title": {
           "x": 0.05
          },
          "xaxis": {
           "automargin": true,
           "gridcolor": "white",
           "linecolor": "white",
           "ticks": "",
           "title": {
            "standoff": 15
           },
           "zerolinecolor": "white",
           "zerolinewidth": 2
          },
          "yaxis": {
           "automargin": true,
           "gridcolor": "white",
           "linecolor": "white",
           "ticks": "",
           "title": {
            "standoff": 15
           },
           "zerolinecolor": "white",
           "zerolinewidth": 2
          }
         }
        },
        "xaxis": {
         "anchor": "y",
         "domain": [
          0,
          1
         ],
         "title": {
          "text": "0"
         }
        },
        "yaxis": {
         "anchor": "x",
         "domain": [
          0,
          1
         ],
         "title": {
          "text": "1"
         }
        }
       }
      }
     },
     "metadata": {},
     "output_type": "display_data"
    }
   ],
   "source": [
    "kmeans = KMeans(n_clusters=4) # view variation of n_clusters 3 or 4\n",
    "labels = kmeans.fit(data)\n",
    "\n",
    "df_pca = pd.DataFrame(x_pca)\n",
    "df_pca\n",
    "\n",
    "fig = px.scatter(df_pca, x=0, y=1, color=kmeans.labels_)\n",
    "fig.show()"
   ]
  },
  {
   "cell_type": "code",
   "execution_count": 75,
   "id": "97fb8d40-50e0-4714-b876-f530cf7734eb",
   "metadata": {},
   "outputs": [
    {
     "data": {
      "text/html": [
       "<div>\n",
       "<style scoped>\n",
       "    .dataframe tbody tr th:only-of-type {\n",
       "        vertical-align: middle;\n",
       "    }\n",
       "\n",
       "    .dataframe tbody tr th {\n",
       "        vertical-align: top;\n",
       "    }\n",
       "\n",
       "    .dataframe thead th {\n",
       "        text-align: right;\n",
       "    }\n",
       "</style>\n",
       "<table border=\"1\" class=\"dataframe\">\n",
       "  <thead>\n",
       "    <tr style=\"text-align: right;\">\n",
       "      <th></th>\n",
       "      <th>provinsi</th>\n",
       "      <th>group</th>\n",
       "    </tr>\n",
       "  </thead>\n",
       "  <tbody>\n",
       "    <tr>\n",
       "      <th>16</th>\n",
       "      <td>Kalimantan Timur</td>\n",
       "      <td>0</td>\n",
       "    </tr>\n",
       "    <tr>\n",
       "      <th>25</th>\n",
       "      <td>Sulawesi Barat</td>\n",
       "      <td>0</td>\n",
       "    </tr>\n",
       "    <tr>\n",
       "      <th>21</th>\n",
       "      <td>Kalimantan Tengah</td>\n",
       "      <td>0</td>\n",
       "    </tr>\n",
       "    <tr>\n",
       "      <th>20</th>\n",
       "      <td>DI Yogyakarta</td>\n",
       "      <td>0</td>\n",
       "    </tr>\n",
       "    <tr>\n",
       "      <th>18</th>\n",
       "      <td>Bengkulu</td>\n",
       "      <td>0</td>\n",
       "    </tr>\n",
       "    <tr>\n",
       "      <th>17</th>\n",
       "      <td>Riau</td>\n",
       "      <td>0</td>\n",
       "    </tr>\n",
       "    <tr>\n",
       "      <th>15</th>\n",
       "      <td>Banten</td>\n",
       "      <td>0</td>\n",
       "    </tr>\n",
       "    <tr>\n",
       "      <th>14</th>\n",
       "      <td>Kalimantan Barat</td>\n",
       "      <td>0</td>\n",
       "    </tr>\n",
       "    <tr>\n",
       "      <th>13</th>\n",
       "      <td>Kalimantan Selatan</td>\n",
       "      <td>0</td>\n",
       "    </tr>\n",
       "    <tr>\n",
       "      <th>23</th>\n",
       "      <td>Maluku Utara</td>\n",
       "      <td>0</td>\n",
       "    </tr>\n",
       "    <tr>\n",
       "      <th>11</th>\n",
       "      <td>Sulawesi Tengah</td>\n",
       "      <td>0</td>\n",
       "    </tr>\n",
       "    <tr>\n",
       "      <th>24</th>\n",
       "      <td>Bali</td>\n",
       "      <td>0</td>\n",
       "    </tr>\n",
       "    <tr>\n",
       "      <th>9</th>\n",
       "      <td>Lampung</td>\n",
       "      <td>0</td>\n",
       "    </tr>\n",
       "    <tr>\n",
       "      <th>8</th>\n",
       "      <td>Sumatera Barat</td>\n",
       "      <td>0</td>\n",
       "    </tr>\n",
       "    <tr>\n",
       "      <th>7</th>\n",
       "      <td>Sumatera Selatan</td>\n",
       "      <td>0</td>\n",
       "    </tr>\n",
       "    <tr>\n",
       "      <th>6</th>\n",
       "      <td>Nusa Tenggara Timur</td>\n",
       "      <td>0</td>\n",
       "    </tr>\n",
       "    <tr>\n",
       "      <th>5</th>\n",
       "      <td>Sulawesi Selatan</td>\n",
       "      <td>0</td>\n",
       "    </tr>\n",
       "    <tr>\n",
       "      <th>4</th>\n",
       "      <td>Sumatera Utara</td>\n",
       "      <td>0</td>\n",
       "    </tr>\n",
       "    <tr>\n",
       "      <th>10</th>\n",
       "      <td>Nusa Tenggara Barat</td>\n",
       "      <td>0</td>\n",
       "    </tr>\n",
       "    <tr>\n",
       "      <th>27</th>\n",
       "      <td>Gorontalo</td>\n",
       "      <td>1</td>\n",
       "    </tr>\n",
       "    <tr>\n",
       "      <th>26</th>\n",
       "      <td>Sulawesi Utara</td>\n",
       "      <td>1</td>\n",
       "    </tr>\n",
       "    <tr>\n",
       "      <th>29</th>\n",
       "      <td>Kepulauan Riau</td>\n",
       "      <td>1</td>\n",
       "    </tr>\n",
       "    <tr>\n",
       "      <th>30</th>\n",
       "      <td>Papua Barat</td>\n",
       "      <td>1</td>\n",
       "    </tr>\n",
       "    <tr>\n",
       "      <th>31</th>\n",
       "      <td>Maluku</td>\n",
       "      <td>1</td>\n",
       "    </tr>\n",
       "    <tr>\n",
       "      <th>28</th>\n",
       "      <td>Kepulauan Bangka Belitung</td>\n",
       "      <td>1</td>\n",
       "    </tr>\n",
       "    <tr>\n",
       "      <th>33</th>\n",
       "      <td>Kalimantan Utara</td>\n",
       "      <td>1</td>\n",
       "    </tr>\n",
       "    <tr>\n",
       "      <th>19</th>\n",
       "      <td>Sulawesi Tenggara</td>\n",
       "      <td>1</td>\n",
       "    </tr>\n",
       "    <tr>\n",
       "      <th>32</th>\n",
       "      <td>Papua</td>\n",
       "      <td>1</td>\n",
       "    </tr>\n",
       "    <tr>\n",
       "      <th>12</th>\n",
       "      <td>DKI Jakarta</td>\n",
       "      <td>1</td>\n",
       "    </tr>\n",
       "    <tr>\n",
       "      <th>22</th>\n",
       "      <td>Jambi</td>\n",
       "      <td>1</td>\n",
       "    </tr>\n",
       "    <tr>\n",
       "      <th>1</th>\n",
       "      <td>Jawa Tengah</td>\n",
       "      <td>2</td>\n",
       "    </tr>\n",
       "    <tr>\n",
       "      <th>3</th>\n",
       "      <td>Aceh</td>\n",
       "      <td>3</td>\n",
       "    </tr>\n",
       "    <tr>\n",
       "      <th>2</th>\n",
       "      <td>Jawa Barat</td>\n",
       "      <td>3</td>\n",
       "    </tr>\n",
       "    <tr>\n",
       "      <th>0</th>\n",
       "      <td>Jawa Timur</td>\n",
       "      <td>3</td>\n",
       "    </tr>\n",
       "  </tbody>\n",
       "</table>\n",
       "</div>"
      ],
      "text/plain": [
       "                     provinsi  group\n",
       "16           Kalimantan Timur      0\n",
       "25             Sulawesi Barat      0\n",
       "21          Kalimantan Tengah      0\n",
       "20              DI Yogyakarta      0\n",
       "18                   Bengkulu      0\n",
       "17                       Riau      0\n",
       "15                     Banten      0\n",
       "14           Kalimantan Barat      0\n",
       "13         Kalimantan Selatan      0\n",
       "23               Maluku Utara      0\n",
       "11            Sulawesi Tengah      0\n",
       "24                       Bali      0\n",
       "9                     Lampung      0\n",
       "8              Sumatera Barat      0\n",
       "7            Sumatera Selatan      0\n",
       "6         Nusa Tenggara Timur      0\n",
       "5            Sulawesi Selatan      0\n",
       "4              Sumatera Utara      0\n",
       "10        Nusa Tenggara Barat      0\n",
       "27                  Gorontalo      1\n",
       "26             Sulawesi Utara      1\n",
       "29             Kepulauan Riau      1\n",
       "30                Papua Barat      1\n",
       "31                     Maluku      1\n",
       "28  Kepulauan Bangka Belitung      1\n",
       "33           Kalimantan Utara      1\n",
       "19          Sulawesi Tenggara      1\n",
       "32                      Papua      1\n",
       "12                DKI Jakarta      1\n",
       "22                      Jambi      1\n",
       "1                 Jawa Tengah      2\n",
       "3                        Aceh      3\n",
       "2                  Jawa Barat      3\n",
       "0                  Jawa Timur      3"
      ]
     },
     "execution_count": 75,
     "metadata": {},
     "output_type": "execute_result"
    }
   ],
   "source": [
    "y_kmeans = kmeans.fit_predict(data)\n",
    "df2['group'] = y_kmeans\n",
    "grouped = df2[['provinsi','group']]\n",
    "grouped.sort_values(by='group')"
   ]
  },
  {
   "cell_type": "code",
   "execution_count": null,
   "id": "1acfd517-1be1-449b-99a9-9876eb019d28",
   "metadata": {},
   "outputs": [],
   "source": []
  }
 ],
 "metadata": {
  "kernelspec": {
   "display_name": "Python 3 (ipykernel)",
   "language": "python",
   "name": "python3"
  },
  "language_info": {
   "codemirror_mode": {
    "name": "ipython",
    "version": 3
   },
   "file_extension": ".py",
   "mimetype": "text/x-python",
   "name": "python",
   "nbconvert_exporter": "python",
   "pygments_lexer": "ipython3",
   "version": "3.10.1"
  },
  "vscode": {
   "interpreter": {
    "hash": "e31bf88e4f658c4df55e330177b7cf7d74c26d0dce8f84a2317bad6802d30283"
   }
  }
 },
 "nbformat": 4,
 "nbformat_minor": 5
}

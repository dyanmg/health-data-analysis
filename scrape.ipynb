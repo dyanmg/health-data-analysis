{
 "cells": [
  {
   "cell_type": "code",
   "execution_count": 2,
   "id": "70455ecf-efdc-4236-bf59-02ce4aae4896",
   "metadata": {},
   "outputs": [],
   "source": [
    "import tabula\n",
    "import pandas"
   ]
  },
  {
   "cell_type": "code",
   "execution_count": 13,
   "id": "b6f22f60-044a-46bf-af8f-65c2c69d9a47",
   "metadata": {},
   "outputs": [
    {
     "data": {
      "text/plain": [
       "[                     Unnamed: 0          Unnamed: 1   Laki-Laki  Unnamed: 2  \\\n",
       " 0                   Lahir Hidup                   -           -         NaN   \n",
       " 1                          Bayi             0 Tahun   2.381.409         NaN   \n",
       " 2     Batita (Bawah Tiga Tahun)         0 – 2 Tahun   7.161.120         NaN   \n",
       " 3                   Anak Balita         1 – 4 Tahun   9.598.795         NaN   \n",
       " 4     Balita (Bawah Lima Tahun)         0 – 4 Tahun  11.980.204         NaN   \n",
       " 5                   Pra Sekolah         5 – 6 Tahun   4.857.859         NaN   \n",
       " 6             Anak Usia Kelas 1                 NaN         NaN         NaN   \n",
       " 7                           NaN             7 Tahun   2.442.881         NaN   \n",
       " 8                  SD/Setingkat                 NaN         NaN         NaN   \n",
       " 9        Anak Usia SD/Setingkat        7 – 12 Tahun  14.567.981         NaN   \n",
       " 10           Penduduk Usia Muda          < 15 Tahun  36.130.351         NaN   \n",
       " 11      Penduduk Usia Produktif       15 – 64 Tahun  92.188.550         NaN   \n",
       " 12            Penduduk Usia Non                 NaN         NaN         NaN   \n",
       " 13                          NaN          ≥ 65 Tahun   7.823.600         NaN   \n",
       " 14                    Produktif                 NaN         NaN         NaN   \n",
       " 15         Penduduk Usia Lanjut          ≥ 60 Tahun  12.912.675         NaN   \n",
       " 16  Penduduk Usia Lanjut Risiko                 NaN         NaN         NaN   \n",
       " 17                          NaN          ≥ 70 Tahun   4.295.664         NaN   \n",
       " 18                       Tinggi                 NaN         NaN         NaN   \n",
       " 19      Wanita Usia Subur (WUS)       15 – 49 Tahun           -         NaN   \n",
       " 20                          NaN                 NaN         NaN         NaN   \n",
       " 21  Wanita Usia Subur Imunisasi       15 – 39 Tahun           -         NaN   \n",
       " 22                          NaN                 NaN         NaN         NaN   \n",
       " 23                    Ibu Hamil   1,1 x lahir hidup           -         NaN   \n",
       " 24           Ibu Bersalin/Nifas  1,05 x lahir hidup           -         NaN   \n",
       " \n",
       "      Perempuan   Unnamed: 3  \n",
       " 0            -    4.747.077  \n",
       " 1    2.280.969    4.662.378  \n",
       " 2    6.866.989   14.028.109  \n",
       " 3    9.214.585   18.813.380  \n",
       " 4   11.495.554   23.475.758  \n",
       " 5    4.670.547    9.573.353  \n",
       " 6          NaN          NaN  \n",
       " 7    2.350.677    4.793.558  \n",
       " 8          NaN          NaN  \n",
       " 9   13.927.519   28.495.500  \n",
       " 10  34.579.453   70.709.804  \n",
       " 11  91.328.851  183.517.401  \n",
       " 12         NaN          NaN  \n",
       " 13   9.015.561   16.839.161  \n",
       " 14         NaN          NaN  \n",
       " 15  14.175.078   27.087.753  \n",
       " 16         NaN          NaN  \n",
       " 17   5.413.455    9.709.119  \n",
       " 18         NaN          NaN  \n",
       " 19  71.570.465   71.570.465  \n",
       " 20  52.779.457   52.779.457  \n",
       " 21         NaN          NaN  \n",
       " 22         NaN          NaN  \n",
       " 23         NaN    5.221.784  \n",
       " 24         NaN          NaN  ]"
      ]
     },
     "execution_count": 13,
     "metadata": {},
     "output_type": "execute_result"
    }
   ],
   "source": [
    "file = 'Profil-Kesehatan-Indonesia-Tahun-2020.pdf'\n",
    "data = tabula.read_pdf(file, area = (430, 104, 746, 518), pages = '38')\n",
    "data"
   ]
  },
  {
   "cell_type": "code",
   "execution_count": null,
   "id": "f689058d-4827-4765-ac4a-d064e4db5fad",
   "metadata": {},
   "outputs": [],
   "source": []
  }
 ],
 "metadata": {
  "kernelspec": {
   "display_name": "Python 3 (ipykernel)",
   "language": "python",
   "name": "python3"
  },
  "language_info": {
   "codemirror_mode": {
    "name": "ipython",
    "version": 3
   },
   "file_extension": ".py",
   "mimetype": "text/x-python",
   "name": "python",
   "nbconvert_exporter": "python",
   "pygments_lexer": "ipython3",
   "version": "3.10.1"
  }
 },
 "nbformat": 4,
 "nbformat_minor": 5
}

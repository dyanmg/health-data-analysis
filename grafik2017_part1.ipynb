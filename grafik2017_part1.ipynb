{
 "cells": [
  {
   "cell_type": "code",
   "execution_count": 1,
   "metadata": {},
   "outputs": [],
   "source": [
    "import tabula.io as tb\n",
    "import pandas as pd\n",
    "import numpy as np\n",
    "import math"
   ]
  },
  {
   "cell_type": "code",
   "execution_count": 7,
   "metadata": {},
   "outputs": [
    {
     "data": {
      "text/html": [
       "<div>\n",
       "<style scoped>\n",
       "    .dataframe tbody tr th:only-of-type {\n",
       "        vertical-align: middle;\n",
       "    }\n",
       "\n",
       "    .dataframe tbody tr th {\n",
       "        vertical-align: top;\n",
       "    }\n",
       "\n",
       "    .dataframe thead th {\n",
       "        text-align: right;\n",
       "    }\n",
       "</style>\n",
       "<table border=\"1\" class=\"dataframe\">\n",
       "  <thead>\n",
       "    <tr style=\"text-align: right;\">\n",
       "      <th></th>\n",
       "      <th>GAMBAR 2.1</th>\n",
       "      <th>JUMLAH PUSKESMAS DI INDONESIA TAHUN 2013-2017</th>\n",
       "    </tr>\n",
       "  </thead>\n",
       "  <tbody>\n",
       "    <tr>\n",
       "      <th>0</th>\n",
       "      <td>GAMBAR 2.2</td>\n",
       "      <td>RASIO PUSKESMAS PER KECAMATAN DI INDONESIA TAH...</td>\n",
       "    </tr>\n",
       "    <tr>\n",
       "      <th>1</th>\n",
       "      <td>GAMBAR 2.3</td>\n",
       "      <td>JUMLAH PUSKESMAS YANG MEMBERIKAN PELAYANAN SES...</td>\n",
       "    </tr>\n",
       "    <tr>\n",
       "      <th>2</th>\n",
       "      <td>NaN</td>\n",
       "      <td>DI INDONESIA TAHUN 2017</td>\n",
       "    </tr>\n",
       "    <tr>\n",
       "      <th>3</th>\n",
       "      <td>GAMBAR 2.4</td>\n",
       "      <td>JUMLAH PUSKESMAS RAWAT INAP DAN NON RAWAT INAP...</td>\n",
       "    </tr>\n",
       "    <tr>\n",
       "      <th>4</th>\n",
       "      <td>NaN</td>\n",
       "      <td>TAHUN 2013-2017</td>\n",
       "    </tr>\n",
       "  </tbody>\n",
       "</table>\n",
       "</div>"
      ],
      "text/plain": [
       "   GAMBAR 2.1      JUMLAH PUSKESMAS DI INDONESIA TAHUN 2013-2017\n",
       "0  GAMBAR 2.2  RASIO PUSKESMAS PER KECAMATAN DI INDONESIA TAH...\n",
       "1  GAMBAR 2.3  JUMLAH PUSKESMAS YANG MEMBERIKAN PELAYANAN SES...\n",
       "2         NaN                            DI INDONESIA TAHUN 2017\n",
       "3  GAMBAR 2.4  JUMLAH PUSKESMAS RAWAT INAP DAN NON RAWAT INAP...\n",
       "4         NaN                                    TAHUN 2013-2017"
      ]
     },
     "execution_count": 7,
     "metadata": {},
     "output_type": "execute_result"
    }
   ],
   "source": [
    "file = 'Profil-Kesehatan-Indonesia-tahun-2017.pdf'\n",
    "# file = 'https://github.com/dyanmg/health-data-analysis/raw/master/Profil-Kesehatan-Indonesia-Tahun-2020.pdf'\n",
    "data = tb.read_pdf(file, area = (620, 0, 750, 700), pages = '8', multiple_tables = False)\n",
    "data = data[0]\n",
    "data"
   ]
  },
  {
   "cell_type": "code",
   "execution_count": 8,
   "metadata": {},
   "outputs": [
    {
     "data": {
      "text/html": [
       "<div>\n",
       "<style scoped>\n",
       "    .dataframe tbody tr th:only-of-type {\n",
       "        vertical-align: middle;\n",
       "    }\n",
       "\n",
       "    .dataframe tbody tr th {\n",
       "        vertical-align: top;\n",
       "    }\n",
       "\n",
       "    .dataframe thead th {\n",
       "        text-align: right;\n",
       "    }\n",
       "</style>\n",
       "<table border=\"1\" class=\"dataframe\">\n",
       "  <thead>\n",
       "    <tr style=\"text-align: right;\">\n",
       "      <th></th>\n",
       "      <th>GAMBAR 2.1</th>\n",
       "      <th>JUMLAH PUSKESMAS DI INDONESIA TAHUN 2013-2017</th>\n",
       "    </tr>\n",
       "  </thead>\n",
       "  <tbody>\n",
       "    <tr>\n",
       "      <th>0</th>\n",
       "      <td>GAMBAR 2.1</td>\n",
       "      <td>JUMLAH PUSKESMAS DI INDONESIA TAHUN 2013-2017</td>\n",
       "    </tr>\n",
       "    <tr>\n",
       "      <th>0</th>\n",
       "      <td>GAMBAR 2.2</td>\n",
       "      <td>RASIO PUSKESMAS PER KECAMATAN DI INDONESIA TAH...</td>\n",
       "    </tr>\n",
       "    <tr>\n",
       "      <th>1</th>\n",
       "      <td>GAMBAR 2.3</td>\n",
       "      <td>JUMLAH PUSKESMAS YANG MEMBERIKAN PELAYANAN SES...</td>\n",
       "    </tr>\n",
       "    <tr>\n",
       "      <th>2</th>\n",
       "      <td>NaN</td>\n",
       "      <td>DI INDONESIA TAHUN 2017</td>\n",
       "    </tr>\n",
       "    <tr>\n",
       "      <th>3</th>\n",
       "      <td>GAMBAR 2.4</td>\n",
       "      <td>JUMLAH PUSKESMAS RAWAT INAP DAN NON RAWAT INAP...</td>\n",
       "    </tr>\n",
       "    <tr>\n",
       "      <th>4</th>\n",
       "      <td>NaN</td>\n",
       "      <td>TAHUN 2013-2017</td>\n",
       "    </tr>\n",
       "  </tbody>\n",
       "</table>\n",
       "</div>"
      ],
      "text/plain": [
       "   GAMBAR 2.1      JUMLAH PUSKESMAS DI INDONESIA TAHUN 2013-2017\n",
       "0  GAMBAR 2.1      JUMLAH PUSKESMAS DI INDONESIA TAHUN 2013-2017\n",
       "0  GAMBAR 2.2  RASIO PUSKESMAS PER KECAMATAN DI INDONESIA TAH...\n",
       "1  GAMBAR 2.3  JUMLAH PUSKESMAS YANG MEMBERIKAN PELAYANAN SES...\n",
       "2         NaN                            DI INDONESIA TAHUN 2017\n",
       "3  GAMBAR 2.4  JUMLAH PUSKESMAS RAWAT INAP DAN NON RAWAT INAP...\n",
       "4         NaN                                    TAHUN 2013-2017"
      ]
     },
     "execution_count": 8,
     "metadata": {},
     "output_type": "execute_result"
    }
   ],
   "source": [
    "cols = data.columns\n",
    "added = pd.concat((cols.to_frame().T, data))\n",
    "added"
   ]
  },
  {
   "cell_type": "code",
   "execution_count": 9,
   "metadata": {},
   "outputs": [
    {
     "data": {
      "text/html": [
       "<div>\n",
       "<style scoped>\n",
       "    .dataframe tbody tr th:only-of-type {\n",
       "        vertical-align: middle;\n",
       "    }\n",
       "\n",
       "    .dataframe tbody tr th {\n",
       "        vertical-align: top;\n",
       "    }\n",
       "\n",
       "    .dataframe thead th {\n",
       "        text-align: right;\n",
       "    }\n",
       "</style>\n",
       "<table border=\"1\" class=\"dataframe\">\n",
       "  <thead>\n",
       "    <tr style=\"text-align: right;\">\n",
       "      <th></th>\n",
       "      <th>0</th>\n",
       "      <th>1</th>\n",
       "    </tr>\n",
       "  </thead>\n",
       "  <tbody>\n",
       "    <tr>\n",
       "      <th>0</th>\n",
       "      <td>GAMBAR 2.1</td>\n",
       "      <td>JUMLAH PUSKESMAS DI INDONESIA TAHUN 2013-2017</td>\n",
       "    </tr>\n",
       "    <tr>\n",
       "      <th>0</th>\n",
       "      <td>GAMBAR 2.2</td>\n",
       "      <td>RASIO PUSKESMAS PER KECAMATAN DI INDONESIA TAH...</td>\n",
       "    </tr>\n",
       "    <tr>\n",
       "      <th>1</th>\n",
       "      <td>GAMBAR 2.3</td>\n",
       "      <td>JUMLAH PUSKESMAS YANG MEMBERIKAN PELAYANAN SES...</td>\n",
       "    </tr>\n",
       "    <tr>\n",
       "      <th>2</th>\n",
       "      <td>NaN</td>\n",
       "      <td>DI INDONESIA TAHUN 2017</td>\n",
       "    </tr>\n",
       "    <tr>\n",
       "      <th>3</th>\n",
       "      <td>GAMBAR 2.4</td>\n",
       "      <td>JUMLAH PUSKESMAS RAWAT INAP DAN NON RAWAT INAP...</td>\n",
       "    </tr>\n",
       "    <tr>\n",
       "      <th>4</th>\n",
       "      <td>NaN</td>\n",
       "      <td>TAHUN 2013-2017</td>\n",
       "    </tr>\n",
       "  </tbody>\n",
       "</table>\n",
       "</div>"
      ],
      "text/plain": [
       "            0                                                  1\n",
       "0  GAMBAR 2.1      JUMLAH PUSKESMAS DI INDONESIA TAHUN 2013-2017\n",
       "0  GAMBAR 2.2  RASIO PUSKESMAS PER KECAMATAN DI INDONESIA TAH...\n",
       "1  GAMBAR 2.3  JUMLAH PUSKESMAS YANG MEMBERIKAN PELAYANAN SES...\n",
       "2         NaN                            DI INDONESIA TAHUN 2017\n",
       "3  GAMBAR 2.4  JUMLAH PUSKESMAS RAWAT INAP DAN NON RAWAT INAP...\n",
       "4         NaN                                    TAHUN 2013-2017"
      ]
     },
     "execution_count": 9,
     "metadata": {},
     "output_type": "execute_result"
    }
   ],
   "source": [
    "added.columns = np.arange(2)\n",
    "added"
   ]
  },
  {
   "cell_type": "code",
   "execution_count": 10,
   "metadata": {},
   "outputs": [
    {
     "data": {
      "text/html": [
       "<div>\n",
       "<style scoped>\n",
       "    .dataframe tbody tr th:only-of-type {\n",
       "        vertical-align: middle;\n",
       "    }\n",
       "\n",
       "    .dataframe tbody tr th {\n",
       "        vertical-align: top;\n",
       "    }\n",
       "\n",
       "    .dataframe thead th {\n",
       "        text-align: right;\n",
       "    }\n",
       "</style>\n",
       "<table border=\"1\" class=\"dataframe\">\n",
       "  <thead>\n",
       "    <tr style=\"text-align: right;\">\n",
       "      <th></th>\n",
       "      <th>0</th>\n",
       "      <th>1</th>\n",
       "    </tr>\n",
       "  </thead>\n",
       "  <tbody>\n",
       "    <tr>\n",
       "      <th>0</th>\n",
       "      <td>GAMBAR 2.1</td>\n",
       "      <td>JUMLAH PUSKESMAS DI INDONESIA TAHUN 2013-2017</td>\n",
       "    </tr>\n",
       "    <tr>\n",
       "      <th>0</th>\n",
       "      <td>GAMBAR 2.2</td>\n",
       "      <td>RASIO PUSKESMAS PER KECAMATAN DI INDONESIA TAH...</td>\n",
       "    </tr>\n",
       "    <tr>\n",
       "      <th>1</th>\n",
       "      <td>GAMBAR 2.3</td>\n",
       "      <td>JUMLAH PUSKESMAS YANG MEMBERIKAN PELAYANAN SES...</td>\n",
       "    </tr>\n",
       "    <tr>\n",
       "      <th>3</th>\n",
       "      <td>GAMBAR 2.4</td>\n",
       "      <td>JUMLAH PUSKESMAS RAWAT INAP DAN NON RAWAT INAP...</td>\n",
       "    </tr>\n",
       "  </tbody>\n",
       "</table>\n",
       "</div>"
      ],
      "text/plain": [
       "            0                                                  1\n",
       "0  GAMBAR 2.1      JUMLAH PUSKESMAS DI INDONESIA TAHUN 2013-2017\n",
       "0  GAMBAR 2.2  RASIO PUSKESMAS PER KECAMATAN DI INDONESIA TAH...\n",
       "1  GAMBAR 2.3  JUMLAH PUSKESMAS YANG MEMBERIKAN PELAYANAN SES...\n",
       "3  GAMBAR 2.4  JUMLAH PUSKESMAS RAWAT INAP DAN NON RAWAT INAP..."
      ]
     },
     "execution_count": 10,
     "metadata": {},
     "output_type": "execute_result"
    }
   ],
   "source": [
    "def my_isnan(var):\n",
    "    return type(var) == float and math.isnan(var)\n",
    "    \n",
    "selected = []\n",
    "carry_texts = []\n",
    "for index, row in added[::-1].iterrows():\n",
    "    if my_isnan(row[0]):\n",
    "        carry_texts.insert(0, row[1])\n",
    "    elif len(carry_texts) > 0:\n",
    "        carry_texts.insert(0, row[1])\n",
    "        row[1] = ' '.join(carry_texts)\n",
    "        carry_texts = []\n",
    "        selected.insert(0, row)\n",
    "    else:\n",
    "        selected.insert(0, row)\n",
    "filtered = pd.DataFrame(selected)\n",
    "filtered"
   ]
  },
  {
   "cell_type": "code",
   "execution_count": 11,
   "metadata": {},
   "outputs": [
    {
     "data": {
      "text/html": [
       "<div>\n",
       "<style scoped>\n",
       "    .dataframe tbody tr th:only-of-type {\n",
       "        vertical-align: middle;\n",
       "    }\n",
       "\n",
       "    .dataframe tbody tr th {\n",
       "        vertical-align: top;\n",
       "    }\n",
       "\n",
       "    .dataframe thead th {\n",
       "        text-align: right;\n",
       "    }\n",
       "</style>\n",
       "<table border=\"1\" class=\"dataframe\">\n",
       "  <thead>\n",
       "    <tr style=\"text-align: right;\">\n",
       "      <th></th>\n",
       "      <th>0</th>\n",
       "      <th>1</th>\n",
       "    </tr>\n",
       "  </thead>\n",
       "  <tbody>\n",
       "    <tr>\n",
       "      <th>0</th>\n",
       "      <td>Gambar 2.1</td>\n",
       "      <td>Jumlah Puskesmas Di Indonesia Tahun 2013-2017</td>\n",
       "    </tr>\n",
       "    <tr>\n",
       "      <th>1</th>\n",
       "      <td>Gambar 2.2</td>\n",
       "      <td>Rasio Puskesmas Per Kecamatan Di Indonesia Tah...</td>\n",
       "    </tr>\n",
       "    <tr>\n",
       "      <th>2</th>\n",
       "      <td>Gambar 2.3</td>\n",
       "      <td>Jumlah Puskesmas Yang Memberikan Pelayanan Ses...</td>\n",
       "    </tr>\n",
       "    <tr>\n",
       "      <th>3</th>\n",
       "      <td>Gambar 2.4</td>\n",
       "      <td>Jumlah Puskesmas Rawat Inap Dan Non Rawat Inap...</td>\n",
       "    </tr>\n",
       "  </tbody>\n",
       "</table>\n",
       "</div>"
      ],
      "text/plain": [
       "            0                                                  1\n",
       "0  Gambar 2.1      Jumlah Puskesmas Di Indonesia Tahun 2013-2017\n",
       "1  Gambar 2.2  Rasio Puskesmas Per Kecamatan Di Indonesia Tah...\n",
       "2  Gambar 2.3  Jumlah Puskesmas Yang Memberikan Pelayanan Ses...\n",
       "3  Gambar 2.4  Jumlah Puskesmas Rawat Inap Dan Non Rawat Inap..."
      ]
     },
     "execution_count": 11,
     "metadata": {},
     "output_type": "execute_result"
    }
   ],
   "source": [
    "new_index = filtered.reset_index(drop=True)\n",
    "new_index[0] = new_index[0].str.title()\n",
    "new_index[1] = new_index[1].str.title()\n",
    "# new_index[2] = new_index[2].astype(np.int_)\n",
    "new_index"
   ]
  },
  {
   "cell_type": "code",
   "execution_count": 12,
   "metadata": {},
   "outputs": [
    {
     "data": {
      "text/html": [
       "<div>\n",
       "<style scoped>\n",
       "    .dataframe tbody tr th:only-of-type {\n",
       "        vertical-align: middle;\n",
       "    }\n",
       "\n",
       "    .dataframe tbody tr th {\n",
       "        vertical-align: top;\n",
       "    }\n",
       "\n",
       "    .dataframe thead th {\n",
       "        text-align: right;\n",
       "    }\n",
       "</style>\n",
       "<table border=\"1\" class=\"dataframe\">\n",
       "  <thead>\n",
       "    <tr style=\"text-align: right;\">\n",
       "      <th></th>\n",
       "      <th>judul</th>\n",
       "    </tr>\n",
       "    <tr>\n",
       "      <th>gambar</th>\n",
       "      <th></th>\n",
       "    </tr>\n",
       "  </thead>\n",
       "  <tbody>\n",
       "    <tr>\n",
       "      <th>Gambar 2.1</th>\n",
       "      <td>Jumlah Puskesmas Di Indonesia Tahun 2013-2017</td>\n",
       "    </tr>\n",
       "    <tr>\n",
       "      <th>Gambar 2.2</th>\n",
       "      <td>Rasio Puskesmas Per Kecamatan Di Indonesia Tah...</td>\n",
       "    </tr>\n",
       "    <tr>\n",
       "      <th>Gambar 2.3</th>\n",
       "      <td>Jumlah Puskesmas Yang Memberikan Pelayanan Ses...</td>\n",
       "    </tr>\n",
       "    <tr>\n",
       "      <th>Gambar 2.4</th>\n",
       "      <td>Jumlah Puskesmas Rawat Inap Dan Non Rawat Inap...</td>\n",
       "    </tr>\n",
       "  </tbody>\n",
       "</table>\n",
       "</div>"
      ],
      "text/plain": [
       "                                                        judul\n",
       "gambar                                                       \n",
       "Gambar 2.1      Jumlah Puskesmas Di Indonesia Tahun 2013-2017\n",
       "Gambar 2.2  Rasio Puskesmas Per Kecamatan Di Indonesia Tah...\n",
       "Gambar 2.3  Jumlah Puskesmas Yang Memberikan Pelayanan Ses...\n",
       "Gambar 2.4  Jumlah Puskesmas Rawat Inap Dan Non Rawat Inap..."
      ]
     },
     "execution_count": 12,
     "metadata": {},
     "output_type": "execute_result"
    }
   ],
   "source": [
    "new_index.columns = ['gambar', 'judul']\n",
    "final = new_index.set_index('gambar')\n",
    "final"
   ]
  },
  {
   "cell_type": "code",
   "execution_count": 33,
   "metadata": {},
   "outputs": [],
   "source": [
    "final.to_csv('output/grafik2017_part1.csv')"
   ]
  }
 ],
 "metadata": {
  "kernelspec": {
   "display_name": "Python 3.10.1 64-bit",
   "language": "python",
   "name": "python3"
  },
  "language_info": {
   "codemirror_mode": {
    "name": "ipython",
    "version": 3
   },
   "file_extension": ".py",
   "mimetype": "text/x-python",
   "name": "python",
   "nbconvert_exporter": "python",
   "pygments_lexer": "ipython3",
   "version": "3.10.1"
  },
  "orig_nbformat": 4,
  "vscode": {
   "interpreter": {
    "hash": "e31bf88e4f658c4df55e330177b7cf7d74c26d0dce8f84a2317bad6802d30283"
   }
  }
 },
 "nbformat": 4,
 "nbformat_minor": 2
}

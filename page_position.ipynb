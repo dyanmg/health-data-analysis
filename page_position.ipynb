{
 "cells": [
  {
   "cell_type": "code",
   "execution_count": 8,
   "metadata": {},
   "outputs": [
    {
     "data": {
      "text/plain": [
       "[0.7312925170068028, 0.706766917293233, 0.7467467467467468, 0.7518142235123367]"
      ]
     },
     "execution_count": 8,
     "metadata": {},
     "output_type": "execute_result"
    }
   ],
   "source": [
    "position = (430, 94, 746, 518)\n",
    "real_position = (588, 133, 999, 689)\n",
    "ratios = [x / y for x, y in zip(position, real_position)]\n",
    "ratios"
   ]
  },
  {
   "cell_type": "code",
   "execution_count": 9,
   "metadata": {},
   "outputs": [],
   "source": [
    "from statistics import mean\n",
    "\n",
    "\n",
    "ratio = mean(ratios)"
   ]
  },
  {
   "cell_type": "code",
   "execution_count": 13,
   "metadata": {},
   "outputs": [
    {
     "data": {
      "text/plain": [
       "(119, 71, 394, 510)"
      ]
     },
     "execution_count": 13,
     "metadata": {},
     "output_type": "execute_result"
    }
   ],
   "source": [
    "new_position = (163, 97, 537, 695)\n",
    "new_pos = [int(x * ratio) for x in new_position]\n",
    "tuple(new_pos)"
   ]
  }
 ],
 "metadata": {
  "kernelspec": {
   "display_name": "Python 3.10.1 64-bit",
   "language": "python",
   "name": "python3"
  },
  "language_info": {
   "codemirror_mode": {
    "name": "ipython",
    "version": 3
   },
   "file_extension": ".py",
   "mimetype": "text/x-python",
   "name": "python",
   "nbconvert_exporter": "python",
   "pygments_lexer": "ipython3",
   "version": "3.10.1"
  },
  "orig_nbformat": 4,
  "vscode": {
   "interpreter": {
    "hash": "e31bf88e4f658c4df55e330177b7cf7d74c26d0dce8f84a2317bad6802d30283"
   }
  }
 },
 "nbformat": 4,
 "nbformat_minor": 2
}
